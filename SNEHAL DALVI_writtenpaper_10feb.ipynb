{
 "cells": [
  {
   "cell_type": "code",
   "execution_count": 6,
   "id": "c7e46db1",
   "metadata": {},
   "outputs": [
    {
     "name": "stdout",
     "output_type": "stream",
     "text": [
      "Enter the first_namesnehal\n",
      "Enter the last_namedalvi\n",
      "The first_name in reverse order is= lahens\n",
      "The last_name in reverse order is= ivlad\n"
     ]
    }
   ],
   "source": [
    "# 4)Write a Python program which accepts the user's first and last name and \n",
    "# print them in reverse order.\n",
    "str1=input(\"Enter the first_name\")\n",
    "str2=input(\"Enter the last_name\")\n",
    "print(\"The first_name in reverse order is=\",str1[::-1])\n",
    "print(\"The last_name in reverse order is=\",str2[::-1])\n"
   ]
  },
  {
   "cell_type": "code",
   "execution_count": 7,
   "id": "cb2258ac",
   "metadata": {},
   "outputs": [
    {
     "name": "stdout",
     "output_type": "stream",
     "text": [
      "How many terms? 10\n",
      "Fibonacci sequence:\n",
      "0\n",
      "1\n",
      "1\n",
      "2\n",
      "3\n",
      "5\n",
      "8\n",
      "13\n",
      "21\n",
      "34\n"
     ]
    }
   ],
   "source": [
    "# 6)Display Fibonacci series up to 10 terms\n",
    "\n",
    "nterms = int(input(\"How many terms? \"))\n",
    "\n",
    "# first two terms\n",
    "n1, n2 = 0, 1\n",
    "count = 0\n",
    "\n",
    "# check if the number of terms is valid\n",
    "if nterms <= 0:\n",
    "   print(\"Please enter a positive integer\")\n",
    "# if there is only one term, return n1\n",
    "elif nterms == 1:\n",
    "   print(\"Fibonacci sequence upto\",nterms,\":\")\n",
    "   print(n1)\n",
    "# generate fibonacci sequence\n",
    "else:\n",
    "   print(\"Fibonacci sequence:\")\n",
    "   while count < nterms:\n",
    "       print(n1)\n",
    "       nth = n1 + n2\n",
    "       # update values\n",
    "       n1 = n2\n",
    "       n2 = nth\n",
    "       count += 1"
   ]
  },
  {
   "cell_type": "code",
   "execution_count": 21,
   "id": "5982253a",
   "metadata": {},
   "outputs": [
    {
     "name": "stdout",
     "output_type": "stream",
     "text": [
      "enter how many rows you want for print the pattern7\n",
      "* * \n",
      "* * * \n",
      "* * * * \n",
      "* * * * * \n",
      "* * * * * * \n",
      "* * * * * * * \n"
     ]
    }
   ],
   "source": [
    "# 3)Using nested for loop print the pattern\n",
    "# **\n",
    "# ***\n",
    "# ****\n",
    "# *****\n",
    "# ******\n",
    "# number of rows\n",
    "rows=int(input(\"enter how many rows you want for print the pattern\"))\n",
    "for i in range(1, rows):\n",
    "    for j in range(0, i + 1):\n",
    "        print(\"*\", end=' ')\n",
    "    print(\"\\r\")"
   ]
  },
  {
   "cell_type": "code",
   "execution_count": 27,
   "id": "427d4736",
   "metadata": {},
   "outputs": [
    {
     "name": "stdout",
     "output_type": "stream",
     "text": [
      "Enter the marks Sita has scored  in exam34\n",
      "FAILED\n"
     ]
    }
   ],
   "source": [
    "# 2)Sita has scored good marks in exam..\n",
    "# according the marks secured by sita check\n",
    "# what grade she baged..\n",
    "# 85+ distinction, 75-85 - first class , 65-75 second class.\n",
    "# except the marks from the user\n",
    "sita_score=int(input(\"Enter the marks Sita has scored  in exam\"))\n",
    "grade=\"0\"\n",
    "if sita_score>=85:\n",
    "    print(\"Grade is=Distinction\")\n",
    "elif sita_score>=75 and sita_score<85:\n",
    "    print(\"Grade is First Class\")\n",
    "elif sita_score>=65 and sita_score<75:\n",
    "    print(\"Grade is second class\")\n",
    "elif sita_score>=35 and sita_score<65:\n",
    "    print(\"pass class\")\n",
    "else:\n",
    "    print(\"FAILED\")\n",
    "    "
   ]
  },
  {
   "cell_type": "code",
   "execution_count": 32,
   "id": "0c5c4214",
   "metadata": {},
   "outputs": [
    {
     "name": "stdout",
     "output_type": "stream",
     "text": [
      "Hello Rohini, Happy Friendship Day! Regards, Ram\n",
      "Hello Sita, Happy Friendship Day! Regards, Ram\n",
      "Hello Gita, Happy Friendship Day! Regards, Ram\n",
      "Hello Rani, Happy Friendship Day! Regards, Ram\n",
      "Hello Pallavi, Happy Friendship Day! Regards, Ram\n",
      "Hello Rutuja, Happy Friendship Day! Regards, Ram\n",
      "Hello Yogita, Happy Friendship Day! Regards, Ram\n",
      "Hello Prachi, Happy Friendship Day! Regards, Ram\n",
      "Hello Priti, Happy Friendship Day! Regards, Ram\n",
      "Hello Sakshi, Happy Friendship Day! Regards, Ram\n"
     ]
    }
   ],
   "source": [
    "# 1)Ram needs to convey his regards to his friends\n",
    "# on friendship day he has almost 10 friends.\n",
    "# write a code for the above situation.\n",
    "friends = [\"Rohini\", \"Sita\", \"Gita\", \"Rani\", \"Pallavi\", \"Rutuja\", \"Yogita\", \"Prachi\", \"Priti\", \"Sakshi\"]\n",
    "\n",
    "for friend in friends:\n",
    "    print(\"Hello \" + friend + \", Happy Friendship Day! Regards, Ram\")"
   ]
  },
  {
   "cell_type": "code",
   "execution_count": 36,
   "id": "383c518d",
   "metadata": {},
   "outputs": [
    {
     "name": "stdout",
     "output_type": "stream",
     "text": [
      "is this\n",
      "is this\n"
     ]
    }
   ],
   "source": [
    "# 5)Write a Python program to get a new string from a given string where \n",
    "# \"Is\" has been added to the front. If the given string already begins with \n",
    "# \"Is\" then return the string unchanged\n",
    "def add_is(string):\n",
    "    if string[:2].lower() == \"is\":\n",
    "        return string\n",
    "    else:\n",
    "        return \"Is \" + string\n",
    "\n",
    "string = input(\"\")\n",
    "print(add_is(string))"
   ]
  },
  {
   "cell_type": "code",
   "execution_count": null,
   "id": "dbdf9dd8",
   "metadata": {},
   "outputs": [],
   "source": []
  }
 ],
 "metadata": {
  "kernelspec": {
   "display_name": "Python 3 (ipykernel)",
   "language": "python",
   "name": "python3"
  },
  "language_info": {
   "codemirror_mode": {
    "name": "ipython",
    "version": 3
   },
   "file_extension": ".py",
   "mimetype": "text/x-python",
   "name": "python",
   "nbconvert_exporter": "python",
   "pygments_lexer": "ipython3",
   "version": "3.9.13"
  }
 },
 "nbformat": 4,
 "nbformat_minor": 5
}
