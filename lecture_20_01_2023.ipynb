{
 "cells": [
  {
   "cell_type": "code",
   "execution_count": 1,
   "id": "da4e6c01",
   "metadata": {},
   "outputs": [
    {
     "name": "stdout",
     "output_type": "stream",
     "text": [
      "[16, 25, 36, 49, 64, 81, 100]\n"
     ]
    }
   ],
   "source": [
    "l1=[4,5,6,7,8,9,10]\n",
    "l2=[i**2 for i in l1]\n",
    "print(l2)"
   ]
  },
  {
   "cell_type": "code",
   "execution_count": 2,
   "id": "4ea1a7fa",
   "metadata": {},
   "outputs": [
    {
     "name": "stdout",
     "output_type": "stream",
     "text": [
      "[6, 7, 8, 9, 5, 12, 14, 16, 18, 10, 18, 21, 24, 27, 15, 24, 28, 32, 36, 20, 30, 35, 40, 45, 25]\n"
     ]
    }
   ],
   "source": [
    "l1=[1,2,3,4,5]\n",
    "l2=[6,7,8,9,5]\n",
    "l3=[x*y for x in l1 for y in l2]\n",
    "print(l3)"
   ]
  },
  {
   "cell_type": "code",
   "execution_count": 9,
   "id": "8bd97e3b",
   "metadata": {},
   "outputs": [
    {
     "name": "stdout",
     "output_type": "stream",
     "text": [
      "[8, 8, 9, 8, 9, 10, 8, 9, 10, 11, 8, 9, 10, 11, 12]\n",
      "0.4166666666666667\n"
     ]
    },
    {
     "ename": "TypeError",
     "evalue": "object of type 'int' has no len()",
     "output_type": "error",
     "traceback": [
      "\u001b[1;31m---------------------------------------------------------------------------\u001b[0m",
      "\u001b[1;31mTypeError\u001b[0m                                 Traceback (most recent call last)",
      "\u001b[1;32m~\\AppData\\Local\\Temp\\ipykernel_29740\\2896878456.py\u001b[0m in \u001b[0;36m<module>\u001b[1;34m\u001b[0m\n\u001b[0;32m     12\u001b[0m \u001b[1;33m\u001b[0m\u001b[0m\n\u001b[0;32m     13\u001b[0m \u001b[0ml5\u001b[0m\u001b[1;33m=\u001b[0m\u001b[1;33m[\u001b[0m\u001b[0mx\u001b[0m\u001b[1;33m+\u001b[0m\u001b[0my\u001b[0m \u001b[1;32mfor\u001b[0m \u001b[0mx\u001b[0m \u001b[1;32min\u001b[0m \u001b[0ml1\u001b[0m \u001b[1;32mfor\u001b[0m \u001b[0my\u001b[0m \u001b[1;32min\u001b[0m \u001b[0ml2\u001b[0m \u001b[1;32mif\u001b[0m \u001b[0mx\u001b[0m\u001b[1;33m+\u001b[0m\u001b[0my\u001b[0m\u001b[1;33m>\u001b[0m\u001b[1;36m6\u001b[0m\u001b[1;33m]\u001b[0m\u001b[1;33m\u001b[0m\u001b[1;33m\u001b[0m\u001b[0m\n\u001b[1;32m---> 14\u001b[1;33m \u001b[0mp_a\u001b[0m\u001b[1;33m=\u001b[0m\u001b[0mlen\u001b[0m\u001b[1;33m(\u001b[0m\u001b[1;36m15\u001b[0m\u001b[1;33m)\u001b[0m\u001b[1;33m/\u001b[0m\u001b[1;36m36\u001b[0m\u001b[1;33m\u001b[0m\u001b[1;33m\u001b[0m\u001b[0m\n\u001b[0m",
      "\u001b[1;31mTypeError\u001b[0m: object of type 'int' has no len()"
     ]
    }
   ],
   "source": [
    "l1=[1,2,3,4,5,6]\n",
    "l2=[1,2,3,4,5,6]\n",
    "l3=[i+j for i in l1 for j in l2]\n",
    "l4=[]\n",
    "for i in l3:\n",
    "    if i>7:\n",
    "        l4.append(i)\n",
    "print(l4)\n",
    "l3\n",
    "probability=len(l4)/len(l3)\n",
    "print(probability)\n",
    "\n",
    "#l5=[x+y for x in l1 for y in l2 if x+y>6]\n",
    "#p_a=len(15)/36"
   ]
  },
  {
   "cell_type": "code",
   "execution_count": 15,
   "id": "f8997bd1",
   "metadata": {},
   "outputs": [
    {
     "name": "stdout",
     "output_type": "stream",
     "text": [
      "['hhh', 'hht', 'hth', 'htt', 'thh', 'tht', 'tth', 'ttt']\n",
      "0.5\n",
      "0.5\n"
     ]
    }
   ],
   "source": [
    "l1=['h','t']\n",
    "l2=['h','t']\n",
    "l3=['h','t']\n",
    "l4=[x+y+z for x in l1 for y in l2 for z in l3] \n",
    "print(l4)\n",
    "h=0\n",
    "t=0\n",
    "for i in l4:\n",
    "    b=i.count(\"t\")\n",
    "    a=i.count(\"h\")\n",
    "    if a>=2:\n",
    "        h+=1\n",
    "    if b>=2:\n",
    "        t+=1\n",
    "        \n",
    "        \n",
    "print(h/len(l4))\n",
    "print(t/len(l4))\n",
    "        \n"
   ]
  },
  {
   "cell_type": "code",
   "execution_count": 16,
   "id": "efe3c515",
   "metadata": {},
   "outputs": [
    {
     "name": "stdout",
     "output_type": "stream",
     "text": [
      "None\n"
     ]
    }
   ],
   "source": [
    "l1=[1,2,3,4,5,]\n",
    "print(l1.reverse())"
   ]
  },
  {
   "cell_type": "code",
   "execution_count": null,
   "id": "de76bdde",
   "metadata": {},
   "outputs": [],
   "source": []
  }
 ],
 "metadata": {
  "kernelspec": {
   "display_name": "Python 3 (ipykernel)",
   "language": "python",
   "name": "python3"
  },
  "language_info": {
   "codemirror_mode": {
    "name": "ipython",
    "version": 3
   },
   "file_extension": ".py",
   "mimetype": "text/x-python",
   "name": "python",
   "nbconvert_exporter": "python",
   "pygments_lexer": "ipython3",
   "version": "3.9.13"
  }
 },
 "nbformat": 4,
 "nbformat_minor": 5
}
