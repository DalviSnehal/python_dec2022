{
 "cells": [
  {
   "cell_type": "code",
   "execution_count": 2,
   "id": "cdfb5942",
   "metadata": {},
   "outputs": [
    {
     "name": "stdout",
     "output_type": "stream",
     "text": [
      "enter the num150\n",
      "enter the num250\n",
      "the sum of num1 and num2 is: 100\n"
     ]
    }
   ],
   "source": [
    "#Write a python program to enter two numbers and find their sum.\n",
    "num1=int(input(\"enter the num1\"))\n",
    "num2=int(input(\"enter the num2\"))\n",
    "sum=num1+num2\n",
    "print(\"the sum of num1 and num2 is:\",sum)"
   ]
  },
  {
   "cell_type": "code",
   "execution_count": 24,
   "id": "682fd685",
   "metadata": {},
   "outputs": [
    {
     "name": "stdout",
     "output_type": "stream",
     "text": [
      "enter the num1121\n",
      "enter the num210\n",
      "the sum of num1 and num2 is: 131\n",
      "the substraction of num1 and num2 is: 111\n",
      "the multiplication of num1 and num2 is: 1210\n",
      "the division of num1 and num2 is: 12\n",
      "the remainder of num1 and num2 is: 1\n"
     ]
    }
   ],
   "source": [
    "#Write a python program to enter two numbers and perform all arithmetic operations.\n",
    "num1=int(input(\"enter the num1\"))\n",
    "num2=int(input(\"enter the num2\"))\n",
    "sum=num1+num2\n",
    "sub=num1-num2\n",
    "mul=num1*num2\n",
    "div=num1//num2\n",
    "mod=num1%num2\n",
    "print(\"the sum of num1 and num2 is:\",sum)\n",
    "print(\"the substraction of num1 and num2 is:\",sub)\n",
    "print(\"the multiplication of num1 and num2 is:\",mul)\n",
    "print(\"the division of num1 and num2 is:\",div)\n",
    "print(\"the remainder of num1 and num2 is:\",mod)"
   ]
  },
  {
   "cell_type": "code",
   "execution_count": 9,
   "id": "4e7eec95",
   "metadata": {},
   "outputs": [
    {
     "name": "stdout",
     "output_type": "stream",
     "text": [
      "enter the length of the rectangle12.4\n",
      "enter the breadth of the rectangle10\n",
      "the area of the Rectangle is: 124.0\n"
     ]
    }
   ],
   "source": [
    "#Write a python program to enter the length and breadtg of rectangle and find its area\n",
    "length=float(input(\"enter the length of the rectangle\"))\n",
    "breadth=float(input(\"enter the breadth of the rectangle\"))\n",
    "\n",
    "area=length*breadth\n",
    "print(\"the area of the Rectangle is:\",area)"
   ]
  },
  {
   "cell_type": "code",
   "execution_count": 10,
   "id": "89c6a32a",
   "metadata": {},
   "outputs": [
    {
     "name": "stdout",
     "output_type": "stream",
     "text": [
      "enter the base12\n",
      "enter the height12\n",
      "area of triangel is: 72.0\n"
     ]
    }
   ],
   "source": [
    "# Write a Python program to enter base and height of a triangle and find its area\n",
    "base=int(input(\"enter the base\"))\n",
    "height=int(input(\"enter the height\"))\n",
    "area_of_triangle=(1/2)*base*height\n",
    "print(\"area of triangel is:\",area_of_triangle)"
   ]
  },
  {
   "cell_type": "code",
   "execution_count": 17,
   "id": "9b0219aa",
   "metadata": {},
   "outputs": [
    {
     "name": "stdout",
     "output_type": "stream",
     "text": [
      "enter the number10\n",
      "Square of the given Number is: 100\n"
     ]
    }
   ],
   "source": [
    "#Write a python Program to calculate Square of given number\n",
    "num=int(input(\"enter the number\"))\n",
    "square=num*num\n",
    "print(\"Square of the given Number is:\",square)"
   ]
  },
  {
   "cell_type": "code",
   "execution_count": 19,
   "id": "3f463c21",
   "metadata": {},
   "outputs": [
    {
     "name": "stdout",
     "output_type": "stream",
     "text": [
      "Enter the number30\n",
      "The cube of the given number is: 27000\n"
     ]
    }
   ],
   "source": [
    "#. Write a python Program to calculate cube of given number\n",
    "number=int(input(\"Enter the number\"))\n",
    "cube=number*number*number\n",
    "print(\"The cube of the given number is:\",cube)"
   ]
  },
  {
   "cell_type": "code",
   "execution_count": 22,
   "id": "6cfc843e",
   "metadata": {},
   "outputs": [
    {
     "name": "stdout",
     "output_type": "stream",
     "text": [
      "the marks of 5 subjects are:\n",
      "80\n",
      "80\n",
      "80\n",
      "80\n",
      "80\n",
      "the total marks are: 400\n",
      "the average is: 80.0\n",
      "the percentages are: 80.0\n"
     ]
    }
   ],
   "source": [
    "#Write a Python program to enter marks of five subjects and calculate total, average and percentage\n",
    "print(\"the marks of 5 subjects are:\")\n",
    "mark_of_subject1=int(input(\"\"))\n",
    "mark_of_subject2=int(input(\"\"))\n",
    "\n",
    "mark_of_subject3=int(input(\"\"))\n",
    "mark_of_subject4=int(input(\"\"))\n",
    "mark_of_subject5=int(input(\"\"))\n",
    "total=mark_of_subject1+mark_of_subject2+mark_of_subject3+mark_of_subject4+mark_of_subject5\n",
    "average=total/5\n",
    "percentage=(total/500)*100\n",
    "print(\"the total marks are:\",total)\n",
    "print(\"the average is:\",average)\n",
    "print(\"the percentages are:\",percentage)"
   ]
  },
  {
   "cell_type": "code",
   "execution_count": null,
   "id": "52f7a005",
   "metadata": {},
   "outputs": [],
   "source": [
    "# Write a Python program to enter P, T, R and calculate Simple Interest."
   ]
  }
 ],
 "metadata": {
  "kernelspec": {
   "display_name": "Python 3 (ipykernel)",
   "language": "python",
   "name": "python3"
  },
  "language_info": {
   "codemirror_mode": {
    "name": "ipython",
    "version": 3
   },
   "file_extension": ".py",
   "mimetype": "text/x-python",
   "name": "python",
   "nbconvert_exporter": "python",
   "pygments_lexer": "ipython3",
   "version": "3.9.13"
  }
 },
 "nbformat": 4,
 "nbformat_minor": 5
}
