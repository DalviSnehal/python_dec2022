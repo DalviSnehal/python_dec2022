{
 "cells": [
  {
   "cell_type": "code",
   "execution_count": 6,
   "id": "07466a96",
   "metadata": {},
   "outputs": [
    {
     "name": "stdout",
     "output_type": "stream",
     "text": [
      "even numbers from 122 to 229 are as follows\n",
      "122\n",
      "124\n",
      "126\n",
      "128\n",
      "130\n",
      "132\n",
      "134\n",
      "136\n",
      "138\n",
      "140\n",
      "142\n",
      "144\n",
      "146\n",
      "148\n",
      "150\n",
      "152\n",
      "154\n",
      "156\n",
      "158\n",
      "160\n",
      "162\n",
      "164\n",
      "166\n",
      "168\n",
      "170\n",
      "172\n",
      "174\n",
      "176\n",
      "178\n",
      "180\n",
      "182\n",
      "184\n",
      "186\n",
      "188\n",
      "190\n",
      "192\n",
      "194\n",
      "196\n",
      "198\n",
      "200\n",
      "202\n",
      "204\n",
      "206\n",
      "208\n",
      "210\n",
      "212\n",
      "214\n",
      "216\n",
      "218\n",
      "220\n",
      "222\n",
      "224\n",
      "226\n",
      "228\n"
     ]
    }
   ],
   "source": [
    "#1. WAP to print even numbers from 121 to 229 using for loop\n",
    "print(\"even numbers from 122 to 229 are as follows\")\n",
    "for i in range(121,229):\n",
    "    if i%2==0:\n",
    "        print(i)\n",
    "        "
   ]
  },
  {
   "cell_type": "code",
   "execution_count": 21,
   "id": "0a3aee48",
   "metadata": {},
   "outputs": [
    {
     "name": "stdout",
     "output_type": "stream",
     "text": [
      "the odd numberss from 229 to 551 are:\n",
      "229\n",
      "231\n",
      "233\n",
      "235\n",
      "237\n",
      "239\n",
      "241\n",
      "243\n",
      "245\n",
      "247\n",
      "249\n",
      "251\n",
      "253\n",
      "255\n",
      "257\n",
      "259\n",
      "261\n",
      "263\n",
      "265\n",
      "267\n",
      "269\n",
      "271\n",
      "273\n",
      "275\n",
      "277\n",
      "279\n",
      "281\n",
      "283\n",
      "285\n",
      "287\n",
      "289\n",
      "291\n",
      "293\n",
      "295\n",
      "297\n",
      "299\n",
      "301\n",
      "303\n",
      "305\n",
      "307\n",
      "309\n",
      "311\n",
      "313\n",
      "315\n",
      "317\n",
      "319\n",
      "321\n",
      "323\n",
      "325\n",
      "327\n",
      "329\n",
      "331\n",
      "333\n",
      "335\n",
      "337\n",
      "339\n",
      "341\n",
      "343\n",
      "345\n",
      "347\n",
      "349\n",
      "351\n",
      "353\n",
      "355\n",
      "357\n",
      "359\n",
      "361\n",
      "363\n",
      "365\n",
      "367\n",
      "369\n",
      "371\n",
      "373\n",
      "375\n",
      "377\n",
      "379\n",
      "381\n",
      "383\n",
      "385\n",
      "387\n",
      "389\n",
      "391\n",
      "393\n",
      "395\n",
      "397\n",
      "399\n",
      "401\n",
      "403\n",
      "405\n",
      "407\n",
      "409\n",
      "411\n",
      "413\n",
      "415\n",
      "417\n",
      "419\n",
      "421\n",
      "423\n",
      "425\n",
      "427\n",
      "429\n",
      "431\n",
      "433\n",
      "435\n",
      "437\n",
      "439\n",
      "441\n",
      "443\n",
      "445\n",
      "447\n",
      "449\n",
      "451\n",
      "453\n",
      "455\n",
      "457\n",
      "459\n",
      "461\n",
      "463\n",
      "465\n",
      "467\n",
      "469\n",
      "471\n",
      "473\n",
      "475\n",
      "477\n",
      "479\n",
      "481\n",
      "483\n",
      "485\n",
      "487\n",
      "489\n",
      "491\n",
      "493\n",
      "495\n",
      "497\n",
      "499\n",
      "501\n",
      "503\n",
      "505\n",
      "507\n",
      "509\n",
      "511\n",
      "513\n",
      "515\n",
      "517\n",
      "519\n",
      "521\n"
     ]
    }
   ],
   "source": [
    "#2. WAP to print odd numbers from 521 to 229 using while loop. \n",
    "n=521\n",
    "first=229\n",
    "print(\"the odd numberss from 229 to 551 are:\")\n",
    "while n>=first:\n",
    "    if first%2!=0:\n",
    "        print(first)\n",
    "    first+=1"
   ]
  },
  {
   "cell_type": "code",
   "execution_count": 9,
   "id": "c01d9578",
   "metadata": {},
   "outputs": [
    {
     "name": "stdout",
     "output_type": "stream",
     "text": [
      "1\n",
      "2\n",
      "3\n",
      "4\n",
      "5\n",
      "6\n",
      "7\n",
      "8\n",
      "9\n",
      "10\n"
     ]
    }
   ],
   "source": [
    "# 3. WAP to show the use of break statement ( in for loop)\n",
    "\n",
    "for i in range(1,101):\n",
    "    print(i)\n",
    "    if i%10==0:\n",
    "        break"
   ]
  },
  {
   "cell_type": "code",
   "execution_count": 11,
   "id": "a6fb7a04",
   "metadata": {},
   "outputs": [
    {
     "name": "stdout",
     "output_type": "stream",
     "text": [
      "Enter Two Numbers: 24\n",
      "12\n",
      "\n",
      "LCM (24, 12) =  24\n",
      "HCF (24, 12) =  12\n"
     ]
    }
   ],
   "source": [
    "#4. WAP to find GCD and LCM of given number(greatest common factor)\n",
    "# num1=int(input(\"Enter the number:- \"))\n",
    "# num2=int(input(\"Enter the number:- \"))\n",
    "# i=1\n",
    "# while i<=num1 and i<=num2:\n",
    "#     if num1%i==0 and num2%i==0:\n",
    "#         gcd=i\n",
    "#     i=i+1\n",
    "# print(\"The G.C.D. of\",num1,\"and\",num2,\"is\",gcd)\n",
    "\n",
    "print(\"Enter Two Numbers: \", end=\"\")\n",
    "no = int(input())\n",
    "nt = int(input())\n",
    "a = no\n",
    "b = nt\n",
    "while b!=0:\n",
    "    temp = b\n",
    "    b = a%b\n",
    "    a = temp\n",
    "hcf = a\n",
    "lcm = int((no*nt)/hcf)\n",
    "\n",
    "print(\"\\nLCM (\" + str(no) + \", \" + str(nt) + \") = \", lcm)\n",
    "print(\"HCF (\" + str(no) + \", \" + str(nt) + \") = \", hcf)"
   ]
  },
  {
   "cell_type": "code",
   "execution_count": 14,
   "id": "9a13fa97",
   "metadata": {},
   "outputs": [
    {
     "name": "stdout",
     "output_type": "stream",
     "text": [
      "a\n",
      "b\n",
      "c\n",
      "d\n",
      "e\n",
      "f\n",
      "g\n",
      "h\n",
      "i\n",
      "j\n",
      "k\n",
      "l\n",
      "m\n",
      "n\n",
      "o\n",
      "p\n",
      "q\n",
      "r\n",
      "s\n",
      "t\n",
      "u\n",
      "v\n",
      "w\n",
      "x\n",
      "y\n",
      "z\n"
     ]
    }
   ],
   "source": [
    "# 5. Write a Python program to print all alphabets from a to z using for loop\n",
    "for i in range(97,123):\n",
    "    print(chr(i))\n",
    "#Python chr() function is used to get a string representing of a character which points to a Unicode code integer. For example, chr(97) returns the string 'a'. This function takes an integer argument and throws an error if it exceeds from the specified range. The standard range of the argument is from 0 to 1,114,111."
   ]
  },
  {
   "cell_type": "code",
   "execution_count": 15,
   "id": "8df0a64d",
   "metadata": {},
   "outputs": [
    {
     "name": "stdout",
     "output_type": "stream",
     "text": [
      "Enter the n value till you want the sum of even numbers: 12\n",
      "2\n",
      "4\n",
      "6\n",
      "8\n",
      "10\n",
      "12\n",
      "Sum of even natural numbers is:  42\n"
     ]
    }
   ],
   "source": [
    "#6. Write a Python program to find sum of all even numbers between 1 to n.\n",
    "\n",
    "n=(int (input(\"Enter the n value till you want the sum of even numbers: \")))\n",
    "i=1\n",
    "sum=0\n",
    "while i<=n:\n",
    "    if i%2==0:\n",
    "        print(i)\n",
    "        sum+= i \n",
    "    i += 1\n",
    "print(\"Sum of even natural numbers is: \",sum)"
   ]
  },
  {
   "cell_type": "code",
   "execution_count": 3,
   "id": "f43bba31",
   "metadata": {},
   "outputs": [
    {
     "name": "stdout",
     "output_type": "stream",
     "text": [
      "Enter the n value till you want the sum of even numbers: 10\n",
      "1\n",
      "3\n",
      "5\n",
      "7\n",
      "9\n",
      "Sum of even natural numbers is:  25\n"
     ]
    }
   ],
   "source": [
    "# 7. Write a Python program to find sum of all odd numbers between 1 to n.\n",
    "n=( int (input(\"Enter the n value till you want the sum of even numbers: \")))\n",
    "i=1\n",
    "s=0\n",
    "while i<= n:\n",
    "    print(i)\n",
    "    s+= i \n",
    "    i += 2\n",
    "print(\"Sum of odd natural numbers is: \",s)"
   ]
  },
  {
   "cell_type": "code",
   "execution_count": 13,
   "id": "1572ad3c",
   "metadata": {},
   "outputs": [
    {
     "name": "stdout",
     "output_type": "stream",
     "text": [
      "Enter a number: 1234567\n",
      "7\n"
     ]
    }
   ],
   "source": [
    "# 8. Write a Python program to count number of digits in any number\n",
    "# n=int(input(\"Enter number:\"))\n",
    "# count=0\n",
    "# while(n>0):\n",
    "#     count=count+1\n",
    "#     n=n//10\n",
    "# print(\"The number of digits in the number are:\",count)\n",
    "num=int(input(\"Enter a number: \"))\n",
    "num=str(num)\n",
    "print(len(num))\n"
   ]
  },
  {
   "cell_type": "code",
   "execution_count": 13,
   "id": "549f87cf",
   "metadata": {},
   "outputs": [
    {
     "name": "stdout",
     "output_type": "stream",
     "text": [
      "enter the number1234\n",
      "24\n"
     ]
    }
   ],
   "source": [
    "# 9. Write a Python program to calculate product of digits of any number.\n",
    "n=int(input(\"enter the number\"))\n",
    "product = 1\n",
    "while(n>0):\n",
    "    product=product*(n % 10)\n",
    "    n = n // 10\n",
    "print(product)        "
   ]
  },
  {
   "cell_type": "code",
   "execution_count": 1,
   "id": "b3219ab2",
   "metadata": {},
   "outputs": [
    {
     "name": "stdout",
     "output_type": "stream",
     "text": [
      "Enter the number:- 1123445667\n",
      "Digit\tFrequency\n",
      "1 \t 2\n",
      "2 \t 1\n",
      "3 \t 1\n",
      "4 \t 2\n",
      "5 \t 1\n",
      "6 \t 2\n",
      "7 \t 1\n"
     ]
    }
   ],
   "source": [
    "# 10. Write a Python program to find frequency of each digit in a given integer.\n",
    "num=int(input(\"Enter the number:- \"))\n",
    "print(\"Digit\\tFrequency\")\n",
    "for i in range(0,10):\n",
    "    count=0;\n",
    "    temp=num;\n",
    "    while temp>0:\n",
    "        digit=temp%10\n",
    "        if digit==i:\n",
    "            count+=1\n",
    "        temp=temp//10;\n",
    "    if count>0:\n",
    "        print(i,\"\\t\",count)\n"
   ]
  },
  {
   "cell_type": "code",
   "execution_count": 1,
   "id": "5f6447e9",
   "metadata": {},
   "outputs": [
    {
     "name": "stdout",
     "output_type": "stream",
     "text": [
      "prime numbers from 300 to 400 numbers are:\n",
      "307\n",
      "311\n",
      "313\n",
      "317\n",
      "331\n",
      "337\n",
      "347\n",
      "349\n",
      "353\n",
      "359\n",
      "367\n",
      "373\n",
      "379\n",
      "383\n",
      "389\n",
      "397\n"
     ]
    }
   ],
   "source": [
    "# 11. Find all prime number between 400 to 300;\n",
    "first=300\n",
    "last=400\n",
    "print(\"prime numbers from 300 to 400 numbers are:\")\n",
    "for num in range(first, last + 1):\n",
    "    if num > 1:\n",
    "        for i in range(2, num):\n",
    "            if (num % i) == 0:\n",
    "                break\n",
    "        else:\n",
    "            print(num)"
   ]
  },
  {
   "cell_type": "code",
   "execution_count": 12,
   "id": "dc40c7c3",
   "metadata": {},
   "outputs": [
    {
     "name": "stdout",
     "output_type": "stream",
     "text": [
      "enter the number for print table :4\n",
      "4 * 1 = 4\n",
      "4 * 2 = 8\n",
      "4 * 3 = 12\n",
      "4 * 4 = 16\n",
      "4 * 5 = 20\n",
      "4 * 6 = 24\n",
      "4 * 7 = 28\n",
      "4 * 8 = 32\n",
      "4 * 9 = 36\n",
      "4 * 10 = 40\n"
     ]
    }
   ],
   "source": [
    "# 12. WAP to print table of given no\n",
    "num=int(input(\"enter the number for print table :\"))\n",
    "for i in range(1,11):\n",
    "    print(num,\"*\",i,\"=\",num*i)"
   ]
  },
  {
   "cell_type": "code",
   "execution_count": 6,
   "id": "d0ebd532",
   "metadata": {},
   "outputs": [
    {
     "name": "stdout",
     "output_type": "stream",
     "text": [
      "squares from the 1 to 20 are:\n",
      "1 ^ 2 = 1\n",
      "2 ^ 2 = 4\n",
      "3 ^ 2 = 9\n",
      "4 ^ 2 = 16\n",
      "5 ^ 2 = 25\n",
      "6 ^ 2 = 36\n",
      "7 ^ 2 = 49\n",
      "8 ^ 2 = 64\n",
      "9 ^ 2 = 81\n",
      "10 ^ 2 = 100\n",
      "11 ^ 2 = 121\n",
      "12 ^ 2 = 144\n",
      "13 ^ 2 = 169\n",
      "14 ^ 2 = 196\n",
      "15 ^ 2 = 225\n",
      "16 ^ 2 = 256\n",
      "17 ^ 2 = 289\n",
      "18 ^ 2 = 324\n",
      "19 ^ 2 = 361\n",
      "20 ^ 2 = 400\n"
     ]
    }
   ],
   "source": [
    "# 13. WAP to print squares from 1 to20\n",
    "print(\"squares from the 1 to 20 are:\")\n",
    "for i in range(1,21):\n",
    "    print(i,\"^\", \"2\", \"=\",i**2)"
   ]
  },
  {
   "cell_type": "code",
   "execution_count": 9,
   "id": "e9ef54d0",
   "metadata": {},
   "outputs": [
    {
     "name": "stdout",
     "output_type": "stream",
     "text": [
      "enter the base3\n",
      "enter the index2\n",
      "9\n"
     ]
    }
   ],
   "source": [
    "# 14. WAP to accept base and index from user and calculates power.\n",
    "base=int(input(\"enter the base\"))\n",
    "index=int(input(\"enter the index\"))\n",
    "print(base**index)\n"
   ]
  },
  {
   "cell_type": "code",
   "execution_count": 19,
   "id": "25d8a8df",
   "metadata": {},
   "outputs": [
    {
     "name": "stdout",
     "output_type": "stream",
     "text": [
      "enter the number 4\n",
      "sum of factorials from 1 to 4 number is: 33\n"
     ]
    }
   ],
   "source": [
    "# 15. 1!+2!+3!.........+n! find s\n",
    "num=int(input(\"enter the number \"))\n",
    "fact=1\n",
    "sum=0\n",
    "for i in range(1,num+1):\n",
    "    fact=fact*i\n",
    "    sum=sum+fact\n",
    "print(\"sum of factorials from 1 to\",num,\"number is:\",sum)    \n",
    "    \n",
    "    "
   ]
  },
  {
   "cell_type": "code",
   "execution_count": 16,
   "id": "f1bf452f",
   "metadata": {},
   "outputs": [
    {
     "name": "stdout",
     "output_type": "stream",
     "text": [
      "Enter a number: 145\n",
      "digits factorial sum: 145\n",
      "The number is krishnamurthy\n"
     ]
    }
   ],
   "source": [
    "# 16. WAP to check given no is Krishnamurthy or not\n",
    "# eg) 153=1!+5!+3!=153\n",
    "num=int(input(\"Enter a number: \"))\n",
    "temp=0 #initilize temp\n",
    "for i in str(num): #type casting of num 153 i=1\n",
    "    if int(i)>=0: #type casting of i\n",
    "        if i==0:\n",
    "            temp+=0 \n",
    "        else:\n",
    "            fact=1\n",
    "            for j in range(1,int(i)+1):\n",
    "                fact*=j\n",
    "            temp+=fact\n",
    "print(\"digits factorial sum:\",temp)\n",
    "if temp==num:\n",
    "    print(\"The number is krishnamurthy\")\n",
    "else:\n",
    "    print(\"The number is not krishnamurthy\")"
   ]
  },
  {
   "cell_type": "code",
   "execution_count": 17,
   "id": "da4c05bd",
   "metadata": {},
   "outputs": [
    {
     "name": "stdout",
     "output_type": "stream",
     "text": [
      "Enter a number: 12221\n",
      "The number is palindrome\n"
     ]
    }
   ],
   "source": [
    "# 17. WAP to check given no is palindrome or not. Original =Reverse\n",
    "# Eg 1221\n",
    "\n",
    "num=int(input(\"Enter a number: \"))\n",
    "num=str(num)\n",
    "if num==num[::-1]:\n",
    "    print(\"The number is palindrome\")\n",
    "else:\n",
    "    print(\"The number is not palindrome\")"
   ]
  },
  {
   "cell_type": "code",
   "execution_count": 18,
   "id": "19461bfb",
   "metadata": {},
   "outputs": [
    {
     "name": "stdout",
     "output_type": "stream",
     "text": [
      "Enter a number: 25\n",
      "The given number is automorphic\n"
     ]
    }
   ],
   "source": [
    "# 18. WAP to check given no is automorphic or not\n",
    "#  input n=25\n",
    "#  output Automorphic\n",
    "# as 25*25=625\n",
    "\n",
    "num=int(input(\"Enter a number: \"))\n",
    "num1=num**2\n",
    "c=num1-(int(num1/100)*100)\n",
    "if num==c:\n",
    "    print(\"The given number is automorphic\")\n",
    "else:\n",
    "    print(\"The given number is not automorphic\")"
   ]
  },
  {
   "cell_type": "code",
   "execution_count": 20,
   "id": "9a88ba74",
   "metadata": {},
   "outputs": [
    {
     "name": "stdout",
     "output_type": "stream",
     "text": [
      "18\n"
     ]
    },
    {
     "ename": "NameError",
     "evalue": "name 'number' is not defined",
     "output_type": "error",
     "traceback": [
      "\u001b[1;31m---------------------------------------------------------------------------\u001b[0m",
      "\u001b[1;31mNameError\u001b[0m                                 Traceback (most recent call last)",
      "\u001b[1;32m~\\AppData\\Local\\Temp\\ipykernel_29340\\3935847296.py\u001b[0m in \u001b[0;36m<module>\u001b[1;34m\u001b[0m\n\u001b[0;32m     16\u001b[0m \u001b[0mnum\u001b[0m\u001b[1;33m=\u001b[0m\u001b[0mint\u001b[0m\u001b[1;33m(\u001b[0m\u001b[0minput\u001b[0m\u001b[1;33m(\u001b[0m\u001b[1;33m)\u001b[0m\u001b[1;33m)\u001b[0m\u001b[1;33m\u001b[0m\u001b[1;33m\u001b[0m\u001b[0m\n\u001b[0;32m     17\u001b[0m \u001b[0msum\u001b[0m\u001b[1;33m=\u001b[0m\u001b[1;36m0\u001b[0m\u001b[1;33m\u001b[0m\u001b[1;33m\u001b[0m\u001b[0m\n\u001b[1;32m---> 18\u001b[1;33m \u001b[1;32mfor\u001b[0m \u001b[0mi\u001b[0m \u001b[1;32min\u001b[0m \u001b[0mnumber\u001b[0m\u001b[1;33m:\u001b[0m\u001b[1;33m\u001b[0m\u001b[1;33m\u001b[0m\u001b[0m\n\u001b[0m\u001b[0;32m     19\u001b[0m     \u001b[0msum\u001b[0m\u001b[1;33m+=\u001b[0m\u001b[0mi\u001b[0m\u001b[1;33m\u001b[0m\u001b[1;33m\u001b[0m\u001b[0m\n\u001b[0;32m     20\u001b[0m \u001b[1;33m\u001b[0m\u001b[0m\n",
      "\u001b[1;31mNameError\u001b[0m: name 'number' is not defined"
     ]
    }
   ],
   "source": [
    "# 19. WAP to find given number is Harshad/Niven number or not\n",
    "#  An harshad number is an integer number divisible by sum of its digit \n",
    "#  Eg 18 sum=9 and 18 is divisible by 9,3 is also\n",
    "# num=int(input(\"Enter the number:-\"))\n",
    "# temp=num\n",
    "# digit=sum=0\n",
    "# while temp>0:\n",
    "#     digit=temp%10\n",
    "#     sum=sum+digit\n",
    "#     temp=temp//10\n",
    "# if num%sum==0:\n",
    "#     print(num,\"is harshad number\")\n",
    "# else:\n",
    "#     print(num,\"is not harshad number\")\n",
    " \n",
    "num=int(input())\n",
    "sum=0\n",
    "for i in number:\n",
    "    sum+=i\n",
    "\n",
    "um=int(number)\n",
    "sum1=int(sum)\n",
    "\n",
    "if num%sum1==0:\n",
    "    print(\"it is a harshad number\")\n",
    "else:\n",
    "    print(\"it is not a harshad number\")\n",
    "    \n",
    "\n",
    "    "
   ]
  },
  {
   "cell_type": "code",
   "execution_count": 9,
   "id": "c663ee5d",
   "metadata": {},
   "outputs": [
    {
     "name": "stdout",
     "output_type": "stream",
     "text": [
      "palindrome numbers are:\n",
      "101\n",
      "111\n",
      "121\n",
      "131\n",
      "141\n",
      "151\n",
      "161\n",
      "171\n",
      "181\n",
      "191\n",
      "202\n",
      "212\n",
      "222\n",
      "232\n",
      "242\n",
      "252\n",
      "262\n",
      "272\n",
      "282\n",
      "292\n",
      "303\n",
      "313\n",
      "323\n",
      "333\n",
      "343\n",
      "353\n",
      "363\n",
      "373\n",
      "383\n",
      "393\n",
      "404\n",
      "414\n",
      "424\n",
      "434\n",
      "444\n",
      "454\n",
      "464\n",
      "474\n",
      "484\n",
      "494\n"
     ]
    }
   ],
   "source": [
    "# 20. Print all palindrome numbers from 100 to 500\n",
    "print(\"palindrome numbers are:\")\n",
    "for num in range(100,501,1):\n",
    "    temp=num\n",
    "    rev=0\n",
    "    while temp>0:\n",
    "        dig=temp%10\n",
    "        rev=rev*10+dig\n",
    "        temp=temp//10\n",
    "    if num==rev:\n",
    "        print(num)"
   ]
  },
  {
   "cell_type": "code",
   "execution_count": null,
   "id": "a8807bc6",
   "metadata": {},
   "outputs": [],
   "source": []
  }
 ],
 "metadata": {
  "kernelspec": {
   "display_name": "Python 3 (ipykernel)",
   "language": "python",
   "name": "python3"
  },
  "language_info": {
   "codemirror_mode": {
    "name": "ipython",
    "version": 3
   },
   "file_extension": ".py",
   "mimetype": "text/x-python",
   "name": "python",
   "nbconvert_exporter": "python",
   "pygments_lexer": "ipython3",
   "version": "3.9.13"
  }
 },
 "nbformat": 4,
 "nbformat_minor": 5
}
