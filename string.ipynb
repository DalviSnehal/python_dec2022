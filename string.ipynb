{
 "cells": [
  {
   "cell_type": "code",
   "execution_count": 17,
   "id": "4fc4fcd7",
   "metadata": {},
   "outputs": [
    {
     "name": "stdout",
     "output_type": "stream",
     "text": [
      "Welcome to python training.\n",
      "welcome to python training.\n",
      "3\n",
      "b'welcome to python training.'\n",
      "True\n",
      "welcome to python training.\n",
      "8\n",
      "11\n",
      "False\n",
      "False\n",
      "True\n",
      "False\n",
      "False\n",
      "False\n",
      "True\n",
      "False\n",
      "True\n",
      "False\n",
      "Welcome To Python Training.\n",
      "False\n",
      "False\n"
     ]
    },
    {
     "ename": "TypeError",
     "evalue": "str.join() takes exactly one argument (0 given)",
     "output_type": "error",
     "traceback": [
      "\u001b[1;31m---------------------------------------------------------------------------\u001b[0m",
      "\u001b[1;31mTypeError\u001b[0m                                 Traceback (most recent call last)",
      "\u001b[1;32m~\\AppData\\Local\\Temp\\ipykernel_13408\\183028949.py\u001b[0m in \u001b[0;36m<module>\u001b[1;34m\u001b[0m\n\u001b[0;32m     25\u001b[0m \u001b[0mprint\u001b[0m\u001b[1;33m(\u001b[0m\u001b[0mstr1\u001b[0m\u001b[1;33m.\u001b[0m\u001b[0misupper\u001b[0m\u001b[1;33m(\u001b[0m\u001b[1;33m)\u001b[0m\u001b[1;33m)\u001b[0m\u001b[1;33m\u001b[0m\u001b[1;33m\u001b[0m\u001b[0m\n\u001b[0;32m     26\u001b[0m \u001b[1;33m\u001b[0m\u001b[0m\n\u001b[1;32m---> 27\u001b[1;33m \u001b[0mprint\u001b[0m\u001b[1;33m(\u001b[0m\u001b[0mstr1\u001b[0m\u001b[1;33m.\u001b[0m\u001b[0mjoin\u001b[0m\u001b[1;33m(\u001b[0m\u001b[1;33m)\u001b[0m\u001b[1;33m)\u001b[0m\u001b[1;33m\u001b[0m\u001b[1;33m\u001b[0m\u001b[0m\n\u001b[0m\u001b[0;32m     28\u001b[0m \u001b[0mprint\u001b[0m\u001b[1;33m(\u001b[0m\u001b[0mstr1\u001b[0m\u001b[1;33m.\u001b[0m\u001b[0mljust\u001b[0m\u001b[1;33m(\u001b[0m\u001b[1;33m)\u001b[0m\u001b[1;33m)\u001b[0m\u001b[1;33m\u001b[0m\u001b[1;33m\u001b[0m\u001b[0m\n\u001b[0;32m     29\u001b[0m \u001b[0mprint\u001b[0m\u001b[1;33m(\u001b[0m\u001b[0mstr1\u001b[0m\u001b[1;33m.\u001b[0m\u001b[0mlower\u001b[0m\u001b[1;33m(\u001b[0m\u001b[1;33m)\u001b[0m\u001b[1;33m)\u001b[0m\u001b[1;33m\u001b[0m\u001b[1;33m\u001b[0m\u001b[0m\n",
      "\u001b[1;31mTypeError\u001b[0m: str.join() takes exactly one argument (0 given)"
     ]
    }
   ],
   "source": [
    "str1=\"welcome to python training.\"\n",
    "print(str1.capitalize())# only capitalizes the first letter of a string and lowers all the remaining characters\n",
    "print(str1.casefold())#The casefold() method returns a string where all the characters are lower case.\n",
    "#print(str1.center(24,'#'))#center() method creates and returns a new string that is padded with the specified character.\n",
    "print(str1.count('t'))#count() returns the no of occurences of a character\n",
    "print(str1.encode())#The encode() method encodes the string, using the specified encoding. If no encoding is specified, UTF-8 will be used.\n",
    "print(str1.endswith(\".\"))#The endswith(value,start,end) method returns True if the string ends with the specified value, otherwise False.\n",
    "print(str1.expandtabs(6))#The expandtabs() method sets the tab size to the specified number of whitespaces.\n",
    "print(str1.find('to'))#The find() method finds the first occurrence of the specified value.\n",
    "#The find() method returns -1 if the value is not found.\n",
    "print(str1.index('p'))#The index() method returns the position at the first occurrence of the specified value.\n",
    "print(str1.isalnum())#The isalnum() method returns True if all the characters are alphanumeric, meaning alphabet letter (a-z) and numbers (0-9).\n",
    "print(str1.isalpha())#The isalpha() method returns True if all the characters are alphabet letters (a-z).\n",
    "print(str1.isascii())#The isascii() method returns True if all the characters are ascii characters  (a-z).\n",
    "print(str1.isdecimal())#Python String isdecimal() function returns true if all characters in a string are decimal, else it returns False.\n",
    "print(str1.isdigit())#The isdigit() method returns True if all the characters are digits, otherwise False.\n",
    "print(str1.isidentifier())#The isidentifier() method returns True if the string is a valid identifier, otherwise False.\n",
    "print(str1.islower())#The islower() method returns True if all the characters are in lower case, otherwise False.\n",
    "print(str1.isnumeric())#The isnumeric() method returns True if all the characters are numeric (0-9), otherwise False.\n",
    "print(str1.isprintable())#The isprintable() method returns True if all the characters are printable, otherwise False.\n",
    "print(str1.isspace())#The isspace() method returns True if all the characters in a string are whitespaces, otherwise False.\n",
    "print(str1.title())#The title() method returns a string where the first character in every word is upper case. Like a header, or a title.\n",
    "#If the word contains a number or a symbol, the first letter after that will be converted to upper case.\n",
    "print(str1.istitle())\n",
    "print(str1.isupper())\n",
    "\n",
    "print(str1.join())\n",
    "print(str1.ljust())\n",
    "print(str1.lower())\n",
    "print(str1.lstrip())\n",
    "print(str1.maketrans())\n",
    "print(str1.partition())\n",
    "print(str1.removeprefix())\n",
    "print(str1.removesuffix())\n",
    "print(str1.replace('training','batch'))#The replace() method replaces a specified phrase with another specified phrase.\n",
    "\n",
    "print(str1.rfind())\n",
    "print(str1.rindex())\n",
    "print(str1.rjust())\n",
    "\n",
    "print(str1.rpartition())\n",
    "print(str1.rsplit())\n",
    "print(str1.rstrip())\n",
    "print(str1.strip())\n",
    "print(str1.swapcase())\n",
    "print(str1.translate())\n",
    "print(str1.upper())\n",
    "print(str1.zfill())"
   ]
  },
  {
   "cell_type": "code",
   "execution_count": null,
   "id": "9c7556d8",
   "metadata": {},
   "outputs": [],
   "source": [
    "\n",
    "print(str1.format(\"snehal\",27))#The format() method formats the specified value(s) and insert them inside the string's placeholder.\n",
    "print(str1.format_map())#which is used to return a dictionary key’s value."
   ]
  },
  {
   "cell_type": "code",
   "execution_count": 20,
   "id": "fc0e64f0",
   "metadata": {},
   "outputs": [
    {
     "name": "stdout",
     "output_type": "stream",
     "text": [
      "-12345\n",
      "False\n"
     ]
    }
   ],
   "source": [
    "str1=input()\n",
    "if\n"
   ]
  },
  {
   "cell_type": "code",
   "execution_count": 3,
   "id": "a7541ca8",
   "metadata": {},
   "outputs": [
    {
     "name": "stdout",
     "output_type": "stream",
     "text": [
      "@snehal123\n",
      "Password should have at least one numeral\n",
      "password is valid\n"
     ]
    }
   ],
   "source": [
    "password=input()\n",
    "if len(password)>=8:\n",
    "print(\"your password at least 8 characters\")\n",
    "elif:"
   ]
  },
  {
   "cell_type": "code",
   "execution_count": 3,
   "id": "4de98a48",
   "metadata": {},
   "outputs": [
    {
     "name": "stdout",
     "output_type": "stream",
     "text": [
      "enter the stringwelcome to python\n",
      "not equal as input string\n"
     ]
    }
   ],
   "source": [
    "string1=input(\"enter the string\")\n",
    "if string1==\"hello world\":\n",
    "    print(\"input string equal to hello world\")\n",
    "else:\n",
    "    print(\"not equal as input string\")\n",
    "    "
   ]
  },
  {
   "cell_type": "code",
   "execution_count": null,
   "id": "93646da1",
   "metadata": {},
   "outputs": [],
   "source": []
  }
 ],
 "metadata": {
  "kernelspec": {
   "display_name": "Python 3 (ipykernel)",
   "language": "python",
   "name": "python3"
  },
  "language_info": {
   "codemirror_mode": {
    "name": "ipython",
    "version": 3
   },
   "file_extension": ".py",
   "mimetype": "text/x-python",
   "name": "python",
   "nbconvert_exporter": "python",
   "pygments_lexer": "ipython3",
   "version": "3.9.13"
  }
 },
 "nbformat": 4,
 "nbformat_minor": 5
}
