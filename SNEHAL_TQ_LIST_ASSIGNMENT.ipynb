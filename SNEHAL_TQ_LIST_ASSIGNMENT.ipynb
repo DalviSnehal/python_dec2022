{
 "cells": [
  {
   "cell_type": "code",
   "execution_count": 19,
   "id": "3e607afa",
   "metadata": {},
   "outputs": [
    {
     "name": "stdout",
     "output_type": "stream",
     "text": [
      "[1, 2, 3, 4, 5, 6, 7, 1, 2, 3, 4]\n",
      "after removing duplicates from list: {1, 2, 3, 4, 5, 6, 7}\n"
     ]
    }
   ],
   "source": [
    "# 1. WAP to remove to find duplicates elements in list,\n",
    "l1=[1,2,3,4,5,6,7,1,2,3,4]\n",
    "print(l1)\n",
    "l_w_r_d=set(l1)\n",
    "print(\"after removing duplicates from list:\",l_w_r_d)"
   ]
  },
  {
   "cell_type": "code",
   "execution_count": 20,
   "id": "30434b63",
   "metadata": {},
   "outputs": [
    {
     "name": "stdout",
     "output_type": "stream",
     "text": [
      "given list l1 is [11, 3, 7, 5, 2]\n",
      "after sortin the given list is [2, 3, 5, 7, 11]\n"
     ]
    }
   ],
   "source": [
    "# 2. WAP to sort the given list\n",
    "l1 = [11, 3, 7, 5, 2]\n",
    "print(\"given list l1 is\",l1)\n",
    "l1.sort()\n",
    "print(\"after sortin the given list is\",l1)"
   ]
  },
  {
   "cell_type": "code",
   "execution_count": 8,
   "id": "4928c48d",
   "metadata": {},
   "outputs": [
    {
     "name": "stdout",
     "output_type": "stream",
     "text": [
      "given list is: [1, 2, 3, 4, 5, 6, 7, 8, 9, 10]\n",
      "even numbers are: [2, 4, 6, 8, 10]\n",
      "odd numbers are: [1, 3, 5, 7, 9]\n"
     ]
    }
   ],
   "source": [
    "# 3. WAP to create a list such that new list contains alternate even and odd from given list\n",
    "l1=[1,2,3,4,5,6,7,8,9,10]\n",
    "even=[]\n",
    "odd=[]\n",
    "print(\"given list is:\",l1)\n",
    "for i in l1:\n",
    "    if i%2==0:\n",
    "        even.append(i)\n",
    "    else:\n",
    "        odd.append(i)\n",
    "print(\"even numbers are:\",even)\n",
    "print(\"odd numbers are:\",odd)"
   ]
  },
  {
   "cell_type": "code",
   "execution_count": 9,
   "id": "946adeb4",
   "metadata": {},
   "outputs": [
    {
     "name": "stdout",
     "output_type": "stream",
     "text": [
      "the given list is: [20, 30, 43, 34, 56, 76, 89]\n",
      "the maximum element of the given list is: 89\n"
     ]
    }
   ],
   "source": [
    "# 4. Write a Python program to get the largest number from a list.\n",
    "l1=[20,30,43,34,56,76,89]\n",
    "print(\"the given list is:\",l1)\n",
    "print(\"the maximum element of the given list is:\",max(l1))"
   ]
  },
  {
   "cell_type": "code",
   "execution_count": 11,
   "id": "40b4b5dd",
   "metadata": {},
   "outputs": [
    {
     "name": "stdout",
     "output_type": "stream",
     "text": [
      "Enter the string:-lisstenl\n",
      "Number of strings are:- 8\n"
     ]
    }
   ],
   "source": [
    "# 5. Write a Python program to count the number of strings where the string length is 2 or more \n",
    "# and the first and last character are same from a given list of strings.\n",
    "string=input(\"Enter the string:-\")\n",
    "str1=list(string)\n",
    "counter=0\n",
    "for i in string:\n",
    "    if len(str1)>=2 and str1[0]==str1[-1]:\n",
    "        counter+=1\n",
    "    else:\n",
    "        print(\"Enter valid string\")\n",
    "        i==1\n",
    "        break\n",
    "print(\"Number of strings are:-\",counter)\n"
   ]
  },
  {
   "cell_type": "code",
   "execution_count": 10,
   "id": "ff04c216",
   "metadata": {},
   "outputs": [
    {
     "name": "stdout",
     "output_type": "stream",
     "text": [
      "given list is : [1, 1, 2, 3, 4, 5, 6, 6, 7, 8, 8, 9]\n",
      "after removing the duplicate elements from given list is: {1, 2, 3, 4, 5, 6, 7, 8, 9}\n"
     ]
    }
   ],
   "source": [
    "# 6. Write a Python program to remove duplicates from a list\n",
    "l1=[1,1,2,3,4,5,6,6,7,8,8,9]\n",
    "print(\"given list is :\",l1)\n",
    "print(\"after removing the duplicate elements from given list is:\",set(l1))"
   ]
  },
  {
   "cell_type": "code",
   "execution_count": 12,
   "id": "75f57a6e",
   "metadata": {},
   "outputs": [
    {
     "name": "stdout",
     "output_type": "stream",
     "text": [
      "Enter the string:-snehal\n",
      "The longer word in string is:- snehal & its length is:- 6\n"
     ]
    }
   ],
   "source": [
    "# 7. Write a Python program to find the list of words that are longer than given words\n",
    "\n",
    "string=input(\"Enter the string:-\")\n",
    "word=string.split()\n",
    "list1=[]\n",
    "for i in word:\n",
    "    list1.append((len(i),i))\n",
    "list1.sort()\n",
    "print(\"The longer word in string is:-\",list1[-1][1],\"& its length is:-\",list1[-1][0])"
   ]
  },
  {
   "cell_type": "code",
   "execution_count": 33,
   "id": "7ebfc0dd",
   "metadata": {},
   "outputs": [
    {
     "name": "stdout",
     "output_type": "stream",
     "text": [
      "Enter 1st string:-snehal \n",
      "Enter 2nd string:-snehal\n",
      "True\n"
     ]
    }
   ],
   "source": [
    "#8. Write a Python function that takes two lists and returns True if they have at least one common member\n",
    "string1=input(\"Enter 1st string:-\")\n",
    "string2=input(\"Enter 2nd string:-\")\n",
    "list1=string1.split()\n",
    "list2=string2.split()\n",
    "result=False\n",
    "for i in list1:\n",
    "    for j in list2:\n",
    "        if i==j:\n",
    "            result=True\n",
    "print(result)"
   ]
  },
  {
   "cell_type": "code",
   "execution_count": 34,
   "id": "160d192c",
   "metadata": {},
   "outputs": [
    {
     "name": "stdout",
     "output_type": "stream",
     "text": [
      "['Dog', 'Elephant', 'Fox', 'Ponda']\n"
     ]
    }
   ],
   "source": [
    "#9. Write a Python program to print a specified list after removing the 0th, 4th and 5th elements. Go to the editor\n",
    "animal = [\"Cat\", \"Dog\", \"Elephant\", \"Fox\", \"Tiger\", \"Lion\", \"Ponda\"]\n",
    "animal = [x for (i,x) in enumerate(animal) if i not in (0,4,5)]\n",
    "#Enumerate() method adds a counter to an iterable and returns it in a form of enumerating object.\n",
    "print(animal)"
   ]
  },
  {
   "cell_type": "code",
   "execution_count": 35,
   "id": "2b31d6fc",
   "metadata": {},
   "outputs": [
    {
     "name": "stdout",
     "output_type": "stream",
     "text": [
      "['Red', 'Green', 'White', 'Black', 'Pink', 'Yellow']\n",
      "['Green', 'White', 'Black']\n"
     ]
    }
   ],
   "source": [
    "#10. Sample List : ['Red', 'Green', 'White', 'Black', 'Pink', 'Yellow']\n",
    "#11. Expected Output : ['Green', 'White', 'Black']\n",
    "list1=['Red','Green','White','Black','Pink','Yellow']\n",
    "print(list1)\n",
    "list2=[]\n",
    "for i in list1:\n",
    "    num=len(i)\n",
    "    if num==5:\n",
    "        list2.append(i)\n",
    "print(list2)"
   ]
  },
  {
   "cell_type": "code",
   "execution_count": 36,
   "id": "f2051957",
   "metadata": {},
   "outputs": [
    {
     "name": "stdout",
     "output_type": "stream",
     "text": [
      "given list is: [1, 2, 3, 4, 5, 6, 7, 89, 11, 32, 5, 4, 642, 32, 15, 54, 66]\n",
      "after removing even numbers the list is : [1, 3, 5, 7, 89, 11, 5, 15]\n"
     ]
    }
   ],
   "source": [
    "#12. Write a Python program to print the numbers of a specified list after removing even numbers from it\n",
    "list1=[1,2,3,4,5,6,7,89,11,32,5,4,642,32,15,54,66]\n",
    "print(\"given list is:\",list1)\n",
    "list2=[]\n",
    "for i in list1:\n",
    "    if i%2!=0:\n",
    "        list2.append(i)\n",
    "print(\"after removing even numbers the list is :\",list2)"
   ]
  },
  {
   "cell_type": "code",
   "execution_count": null,
   "id": "b29852fc",
   "metadata": {},
   "outputs": [],
   "source": [
    "\n"
   ]
  },
  {
   "cell_type": "code",
   "execution_count": null,
   "id": "aa416e74",
   "metadata": {},
   "outputs": [],
   "source": []
  },
  {
   "cell_type": "code",
   "execution_count": null,
   "id": "55a1f616",
   "metadata": {},
   "outputs": [],
   "source": []
  },
  {
   "cell_type": "code",
   "execution_count": null,
   "id": "6186f2e0",
   "metadata": {},
   "outputs": [],
   "source": []
  },
  {
   "cell_type": "code",
   "execution_count": null,
   "id": "085b64ca",
   "metadata": {},
   "outputs": [],
   "source": []
  }
 ],
 "metadata": {
  "kernelspec": {
   "display_name": "Python 3 (ipykernel)",
   "language": "python",
   "name": "python3"
  },
  "language_info": {
   "codemirror_mode": {
    "name": "ipython",
    "version": 3
   },
   "file_extension": ".py",
   "mimetype": "text/x-python",
   "name": "python",
   "nbconvert_exporter": "python",
   "pygments_lexer": "ipython3",
   "version": "3.9.13"
  }
 },
 "nbformat": 4,
 "nbformat_minor": 5
}
