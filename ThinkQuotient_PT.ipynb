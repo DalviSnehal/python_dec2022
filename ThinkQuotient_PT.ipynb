{
 "cells": [
  {
   "cell_type": "code",
   "execution_count": 6,
   "id": "f13ca34e",
   "metadata": {},
   "outputs": [
    {
     "name": "stdout",
     "output_type": "stream",
     "text": [
      "Enter the number12\n",
      "The initial data type is <class 'str'>\n",
      "The data type after conversion is <class 'int'>\n"
     ]
    }
   ],
   "source": [
    " d=input('Enter the number') \n",
    "print('The initial data type is',type(d))\n",
    "d=int(d)\n",
    "print(\"The data type after conversion is\",type(d))"
   ]
  },
  {
   "cell_type": "code",
   "execution_count": 1,
   "id": "30313817",
   "metadata": {},
   "outputs": [
    {
     "name": "stdout",
     "output_type": "stream",
     "text": [
      "Enter a number45\n",
      "The original value is 45\n",
      "The converted value is 45.0\n"
     ]
    }
   ],
   "source": [
    "num=int(input('Enter a number'))\n",
    "print('The original value is',num)\n",
    "num=float(num)\n",
    "print('The converted value is',num)"
   ]
  },
  {
   "cell_type": "code",
   "execution_count": 3,
   "id": "fe7e7ff6",
   "metadata": {},
   "outputs": [
    {
     "name": "stdout",
     "output_type": "stream",
     "text": [
      "Enter the radius5\n",
      "The area of circle with radius  5 is 78.5\n"
     ]
    }
   ],
   "source": [
    "rad=int(input('Enter the radius'))\n",
    "area=(3.14)*(rad**2)\n",
    "print('The area of circle with radius ',rad,\"is\",area)"
   ]
  },
  {
   "cell_type": "code",
   "execution_count": 4,
   "id": "f7969d72",
   "metadata": {},
   "outputs": [
    {
     "name": "stdout",
     "output_type": "stream",
     "text": [
      "Enter your name:SNEHAL\n",
      "Enter your employee id:123\n",
      "Enter your basic salary:12345\n",
      "Thanks for Providing your valuable information!\n",
      "Your information is processed!\n",
      "The Gross Salary of SNEHAL with employee id 123 is 18517.5\n"
     ]
    }
   ],
   "source": [
    "\n",
    "name=input('Enter your name:')\n",
    "e_id=int(input('Enter your employee id:'))\n",
    "basic=int(input('Enter your basic salary:'))\n",
    "print('Thanks for Providing your valuable information!')\n",
    "hra=0.2*basic\n",
    "dra=0.3*basic\n",
    "gross=basic+hra+dra\n",
    "print('Your information is processed!')\n",
    "print('The Gross Salary of',name,\"with employee id\",e_id,\"is\",gross)"
   ]
  },
  {
   "cell_type": "code",
   "execution_count": 5,
   "id": "0d6fdc67",
   "metadata": {},
   "outputs": [
    {
     "name": "stdout",
     "output_type": "stream",
     "text": [
      "Welcome to XYZ Bank\n",
      "May i have your name?:Snehal Berad\n",
      "Hey Snehal Berad Welcome to XYZ Bank\n",
      "May i have your acc number?:12345678\n",
      "Please enter your acc balance10000\n",
      "Enter the amount needed to be added:-30000\n",
      "Thanks for choosing XYZ Bank !\n",
      "Your transaction is completed -20000 is the updated balance\n"
     ]
    }
   ],
   "source": [
    "\n",
    "print('Welcome to XYZ Bank')\n",
    "name=input('May i have your name?:')\n",
    "print('Hey',name,\"Welcome to XYZ Bank\")\n",
    "acc_no=int(input('May i have your acc number?:'))\n",
    "acc_bal=int(input('Please enter your acc balance'))\n",
    "bal_added=int(input('Enter the amount needed to be added:'))\n",
    "final=acc_bal+bal_added\n",
    "print('Thanks for choosing XYZ Bank !')\n",
    "print('Your transaction is completed',final,'is the updated balance')"
   ]
  },
  {
   "cell_type": "code",
   "execution_count": 6,
   "id": "716ea427",
   "metadata": {},
   "outputs": [
    {
     "name": "stdout",
     "output_type": "stream",
     "text": [
      "Enter the marks:45\n",
      "Congratulations you have passed!\n"
     ]
    }
   ],
   "source": [
    "marks=int(input('Enter the marks:'))\n",
    "if marks>35:\n",
    "    print('Congratulations you have passed!') "
   ]
  },
  {
   "cell_type": "code",
   "execution_count": 7,
   "id": "fcdbeb82",
   "metadata": {},
   "outputs": [
    {
     "name": "stdout",
     "output_type": "stream",
     "text": [
      "Enter a value:23\n",
      "23 is odd\n"
     ]
    }
   ],
   "source": [
    "x=int(input('Enter a value:'))#34 #123\n",
    "if x%2==0:#34%2==0 #123%2==0 -> false \n",
    "    print(x,'is even')#this is executed\n",
    "else:\n",
    "    print(x,'is odd')"
   ]
  },
  {
   "cell_type": "code",
   "execution_count": 8,
   "id": "3e02808d",
   "metadata": {},
   "outputs": [
    {
     "name": "stdout",
     "output_type": "stream",
     "text": [
      "Enter a value:0\n",
      "X is positive\n"
     ]
    }
   ],
   "source": [
    "#elif --> else if \n",
    "x=int(input('Enter a value:')) #x=5 #X=2,0\n",
    "if x>=0: #5>0 #true/false 2>0 #TRUE #False\n",
    "    print('X is positive') #will be executed\n",
    "elif x==0: #if condition is false , check this condition,true 0==0:--> true\n",
    "    print('X is zero') # will be executed\n",
    "else:\n",
    "    print('X is negative') "
   ]
  },
  {
   "cell_type": "code",
   "execution_count": 9,
   "id": "739b9ac7",
   "metadata": {},
   "outputs": [
    {
     "name": "stdout",
     "output_type": "stream",
     "text": [
      "Enter your marks:65\n",
      "Grade C\n"
     ]
    }
   ],
   "source": [
    "marks=int(input('Enter your marks:'))\n",
    "if marks>=90:\n",
    "    print('Grade A')\n",
    "elif marks>=75:\n",
    "    print('Grade B')\n",
    "elif marks>=60:\n",
    "    print('Grade C')\n",
    "elif marks>=35:\n",
    "    print('Grade D')\n",
    "else:\n",
    "    print('Grade F')"
   ]
  },
  {
   "cell_type": "code",
   "execution_count": 10,
   "id": "82316e45",
   "metadata": {},
   "outputs": [
    {
     "name": "stdout",
     "output_type": "stream",
     "text": [
      "Enter your marks:30\n",
      "Hard Luck! You failed!\n"
     ]
    }
   ],
   "source": [
    "#SIMPLE CALCULATOR\n",
    "#NESTED IF \n",
    "marks=int(input('Enter your marks:')) #65\n",
    "if marks>=35:#if this is true\n",
    "    print('Congratulation you have passed') #this is executed\n",
    "    if marks>=90:\n",
    "        print('Grade A')\n",
    "    elif marks>=75:\n",
    "        print('Grade B')\n",
    "    elif marks>=60:\n",
    "        print('Grade C')\n",
    "    else:\n",
    "        print('Grade D')\n",
    "else:\n",
    "    print('Hard Luck! You failed!')"
   ]
  },
  {
   "cell_type": "code",
   "execution_count": 11,
   "id": "d3b4334d",
   "metadata": {},
   "outputs": [
    {
     "name": "stdout",
     "output_type": "stream",
     "text": [
      "Welcome to XYZ Bank\n",
      "May i have your name?:SNEHAL\n",
      "Hey SNEHAL Welcome to XYZ Bank\n",
      "May i have your acc number?:12345678\n",
      "Please enter your acc balance123456\n",
      "Enter 1 for Credit and 2 for Debit1\n",
      "Enter the amount needed to be added:1234\n",
      "Thanks for choosing XYZ Bank !\n",
      "Your transaction is completed 124690 is the updated balance\n"
     ]
    }
   ],
   "source": [
    "#Banking Problem with if else\n",
    "print('Welcome to XYZ Bank')\n",
    "name=input('May i have your name?:')\n",
    "print('Hey',name,\"Welcome to XYZ Bank\")\n",
    "acc_no=int(input('May i have your acc number?:'))\n",
    "acc_bal=int(input('Please enter your acc balance'))\n",
    "choice=int(input('Enter 1 for Credit and 2 for Debit'))\n",
    "amount=int(input('Enter the amount needed to be added:'))\n",
    "if choice==1:\n",
    "    final_bal=acc_bal+amount\n",
    "else:\n",
    "    final_bal=acc_bal-amount\n",
    "\n",
    "print('Thanks for choosing XYZ Bank !') \n",
    "print('Your transaction is completed',final_bal,'is the updated balance')"
   ]
  },
  {
   "cell_type": "code",
   "execution_count": 1,
   "id": "2b7206f3",
   "metadata": {},
   "outputs": [
    {
     "name": "stdout",
     "output_type": "stream",
     "text": [
      "May i know your age?19\n",
      "Enter your nationality:Indian\n",
      "Congratulations!You are eligible for voting\n"
     ]
    }
   ],
   "source": [
    "age=int(input('May i know your age?'))\n",
    "if age>=18:\n",
    "    nationality=input('Enter your nationality:')\n",
    "    if (nationality==\"Indian\" or nationality==\"indian\"):\n",
    "        print('Congratulations!You are eligible for voting')\n",
    "    else:\n",
    "        y=input('Enter your location?')\n",
    "        if (y==\"India\" or y==\"india\"):\n",
    "            years=int(input('How many years you had been staying in india?:'))\n",
    "            if years>=5:\n",
    "                print('Congratulations you are eligible for voting')\n",
    "            else:\n",
    "                print('You are not eligible for voting')\n",
    "        else:\n",
    "            print('You are not eligible for voting')\n",
    "else:\n",
    "    print('I am sorry you are not eligible for voting')"
   ]
  },
  {
   "cell_type": "code",
   "execution_count": 2,
   "id": "68e1eba6",
   "metadata": {},
   "outputs": [
    {
     "name": "stdout",
     "output_type": "stream",
     "text": [
      "1 is odd\n",
      "2 is even\n",
      "3 is odd\n",
      "4 is even\n",
      "5 is odd\n",
      "6 is even\n",
      "7 is odd\n",
      "8 is even\n",
      "9 is odd\n",
      "10 is even\n"
     ]
    }
   ],
   "source": [
    "l1=[1,2,3,4,5,6,7,8,9,10]\n",
    "for i in l1:\n",
    "    if i%2==0:\n",
    "        print(i,\"is even\")\n",
    "    else:\n",
    "        print(i,\"is odd\")"
   ]
  },
  {
   "cell_type": "code",
   "execution_count": 3,
   "id": "2abd4c9a",
   "metadata": {},
   "outputs": [
    {
     "name": "stdout",
     "output_type": "stream",
     "text": [
      "The odd numbers are:\n",
      "1\n",
      "3\n",
      "5\n",
      "7\n",
      "9\n",
      "The even numbers are:\n",
      "2\n",
      "4\n",
      "6\n",
      "8\n",
      "10\n"
     ]
    }
   ],
   "source": [
    "i=1\n",
    "odd=[]\n",
    "even=[]\n",
    "while i<11:\n",
    "    if i%2==0:\n",
    "        even.append(i)\n",
    "    else:\n",
    "        odd.append(i)\n",
    "    i+=1\n",
    "    \n",
    "print('The odd numbers are:')\n",
    "for i in odd:\n",
    "    print(i)\n",
    "\n",
    "print('The even numbers are:')\n",
    "for j in even:\n",
    "    print(j)"
   ]
  },
  {
   "cell_type": "code",
   "execution_count": 4,
   "id": "b8e014a7",
   "metadata": {},
   "outputs": [
    {
     "name": "stdout",
     "output_type": "stream",
     "text": [
      "Total no of values you want to enter:4\n",
      "1\n",
      "3\n",
      "5\n",
      "7\n",
      "16\n",
      "Average of first n odd numbers is 4.0\n"
     ]
    }
   ],
   "source": [
    "#Average number of first n natural numbers\n",
    "sum=0\n",
    "n=int(input('Total no of values you want to enter:'))\n",
    "for i in range(1,2*n,2):#[1,2,3,4,5,6,7,last no-1,n]\n",
    "    print(i)\n",
    "    sum+=i\n",
    "    \n",
    "average=sum/n\n",
    "print(sum)\n",
    "print('Average of first n odd numbers is',average)"
   ]
  },
  {
   "cell_type": "code",
   "execution_count": 5,
   "id": "118545f3",
   "metadata": {},
   "outputs": [
    {
     "name": "stdout",
     "output_type": "stream",
     "text": [
      "Enter no of iterations3\n",
      "121\n",
      "121\n",
      "121\n",
      "[121, 121, 121]\n",
      "363\n",
      "3\n",
      "Average of the numbers is 121.0\n"
     ]
    }
   ],
   "source": [
    "#for loop \n",
    "l2=[]\n",
    "num1=int(input('Enter no of iterations'))\n",
    "for i in range(num1):#[0,1,2] [0][1] [2] range(3)\n",
    "    num=int(input())#10,20,30\n",
    "    l2.append(num)#append will add the value at last place in list\n",
    "#[10,20,30]\n",
    "print(l2)\n",
    "sum1=0\n",
    "for j in l2:#[10,20,30]\n",
    "    sum1+=j\n",
    "    #sum1=10+20+30\n",
    "\n",
    "print(sum1)\n",
    "print(num1)\n",
    "average1=sum1/num1\n",
    "print('Average of the numbers is',average1)"
   ]
  },
  {
   "cell_type": "code",
   "execution_count": 6,
   "id": "6d95810f",
   "metadata": {},
   "outputs": [
    {
     "name": "stdout",
     "output_type": "stream",
     "text": [
      "Enter no of iterations:3\n",
      "Enter the value121\n",
      "Enter the value121\n",
      "Enter the value121\n",
      "Average is  121.0\n"
     ]
    }
   ],
   "source": [
    "#WHILE\n",
    "n=int(input('Enter no of iterations:')) #3\n",
    "count=0\n",
    "sum1=0\n",
    "while count<n:#COUNT<3 0,1,2 [0][1]\n",
    "    num=int(input('Enter the value')) #10 20 30\n",
    "    sum1+=num #10+20+30\n",
    "    count+=1 #1+1+1\n",
    "    \n",
    "average=sum1/n #10+20+30/3\n",
    "print('Average is ',average)"
   ]
  },
  {
   "cell_type": "code",
   "execution_count": 7,
   "id": "ad44664c",
   "metadata": {},
   "outputs": [
    {
     "name": "stdout",
     "output_type": "stream",
     "text": [
      "Enter the number for which we want to have factorial:5\n",
      "120\n"
     ]
    }
   ],
   "source": [
    "#FACTORIAL \n",
    "num=int(input('Enter the number for which we want to have factorial:'))\n",
    "fact=1\n",
    "for i in range(1,num+1):#[1,2,3,4,5,6]\n",
    "    fact=fact*i\n",
    "    \n",
    "print(fact)"
   ]
  },
  {
   "cell_type": "code",
   "execution_count": 10,
   "id": "087a76f3",
   "metadata": {},
   "outputs": [
    {
     "name": "stdout",
     "output_type": "stream",
     "text": [
      "enter the number6\n",
      "720\n"
     ]
    }
   ],
   "source": [
    "# factorial using while loop\n",
    "num=int(input(\"enter the number\"))\n",
    "fact=1\n",
    "count=1\n",
    "while count<=num:\n",
    "    fact=fact*count\n",
    "    count+=1\n",
    "print(fact)    \n",
    "    "
   ]
  },
  {
   "cell_type": "code",
   "execution_count": 11,
   "id": "32ebe5ef",
   "metadata": {},
   "outputs": [
    {
     "name": "stdout",
     "output_type": "stream",
     "text": [
      "enter the number100\n",
      "0\n",
      "2\n",
      "4\n",
      "6\n",
      "8\n",
      "10\n",
      "12\n",
      "14\n",
      "16\n",
      "18\n",
      "20\n",
      "22\n",
      "24\n",
      "26\n",
      "28\n",
      "30\n",
      "32\n",
      "34\n",
      "36\n",
      "38\n",
      "40\n",
      "42\n",
      "44\n",
      "46\n",
      "48\n",
      "50\n",
      "52\n",
      "54\n",
      "56\n",
      "58\n",
      "60\n",
      "62\n",
      "64\n",
      "66\n",
      "68\n",
      "70\n",
      "72\n",
      "74\n",
      "76\n",
      "78\n",
      "80\n",
      "82\n",
      "84\n",
      "86\n",
      "88\n",
      "90\n",
      "92\n",
      "94\n",
      "96\n",
      "98\n",
      "100\n"
     ]
    }
   ],
   "source": [
    "num=(int(input(\"enter the number\")))\n",
    "if num>10:\n",
    "    for i in range(num+1):\n",
    "        if i%2==0:\n",
    "            print(i)\n",
    "else:\n",
    "    print(\"number below 10 are not accepted\")"
   ]
  },
  {
   "cell_type": "code",
   "execution_count": 2,
   "id": "4e2a90d5",
   "metadata": {},
   "outputs": [
    {
     "name": "stdout",
     "output_type": "stream",
     "text": [
      "1\n",
      "2\n",
      "3\n",
      "4\n",
      "5\n",
      "6\n",
      "7\n",
      "8\n",
      "9\n",
      "10\n",
      "11\n",
      "12\n",
      "13\n",
      "14\n",
      "15\n",
      "16\n",
      "17\n",
      "18\n",
      "19\n",
      "20\n",
      "21\n",
      "22\n",
      "23\n",
      "24\n"
     ]
    }
   ],
   "source": [
    "#control statements--> controls the flow of the loop\n",
    "#break,continue,pass\n",
    "for i in range(1,51):\n",
    "    if i==25:\n",
    "        break\n",
    "    print(i)\n",
    "    #it ended the loop abruptly "
   ]
  },
  {
   "cell_type": "code",
   "execution_count": 3,
   "id": "5e65ac32",
   "metadata": {},
   "outputs": [
    {
     "name": "stdout",
     "output_type": "stream",
     "text": [
      "1\n",
      "2\n",
      "3\n",
      "4\n",
      "6\n",
      "7\n",
      "8\n",
      "9\n",
      "11\n",
      "12\n",
      "13\n",
      "14\n",
      "16\n",
      "17\n",
      "18\n",
      "19\n",
      "21\n",
      "22\n",
      "23\n",
      "24\n",
      "26\n",
      "27\n",
      "28\n",
      "29\n",
      "31\n",
      "32\n",
      "33\n",
      "34\n",
      "36\n",
      "37\n",
      "38\n",
      "39\n",
      "41\n",
      "42\n",
      "43\n",
      "44\n",
      "46\n",
      "47\n",
      "48\n",
      "49\n"
     ]
    }
   ],
   "source": [
    "for i in range(1,51):\n",
    "    if i%5==0:#[1,2,3,4,6,7,8,9,11,12,13,14,16,17,18,19]\n",
    "        continue\n",
    "    print(i)"
   ]
  },
  {
   "cell_type": "code",
   "execution_count": 4,
   "id": "cda9334e",
   "metadata": {},
   "outputs": [
    {
     "name": "stdout",
     "output_type": "stream",
     "text": [
      "1\n",
      "2\n",
      "3\n",
      "4\n",
      "5\n",
      "6\n",
      "7\n",
      "8\n",
      "9\n",
      "10\n",
      "11\n",
      "12\n",
      "13\n",
      "14\n",
      "15\n",
      "16\n",
      "17\n",
      "18\n",
      "19\n",
      "20\n",
      "21\n",
      "22\n",
      "23\n",
      "24\n",
      "25\n",
      "26\n",
      "27\n",
      "28\n",
      "29\n",
      "30\n",
      "31\n",
      "32\n",
      "33\n",
      "34\n",
      "35\n",
      "36\n",
      "37\n",
      "38\n",
      "39\n",
      "40\n",
      "41\n",
      "42\n",
      "43\n",
      "44\n",
      "45\n",
      "46\n",
      "47\n",
      "48\n",
      "49\n",
      "50\n"
     ]
    }
   ],
   "source": [
    "for i in range(1,51):\n",
    "    print(i)#action statement\n",
    "    if i%5==0:#[1,2,3,4,6,7,8,9,11,12,13,14,16,17,18,19]\n",
    "        continue\n",
    "    \n",
    "#continue --> action statement will come at last \n",
    "#break--> it can come at first and at last"
   ]
  },
  {
   "cell_type": "code",
   "execution_count": 5,
   "id": "49dacdb8",
   "metadata": {},
   "outputs": [
    {
     "name": "stdout",
     "output_type": "stream",
     "text": [
      "1\n",
      "2\n",
      "3\n",
      "4\n",
      "5\n",
      "6\n",
      "7\n",
      "8\n",
      "9\n",
      "11\n",
      "12\n",
      "13\n",
      "14\n",
      "15\n",
      "16\n",
      "17\n",
      "18\n",
      "19\n",
      "21\n",
      "22\n",
      "23\n",
      "24\n",
      "25\n",
      "26\n",
      "27\n",
      "28\n",
      "29\n",
      "31\n",
      "32\n",
      "33\n",
      "34\n",
      "35\n",
      "36\n",
      "37\n",
      "38\n",
      "39\n",
      "41\n",
      "42\n",
      "43\n",
      "44\n",
      "45\n",
      "46\n",
      "47\n",
      "48\n",
      "49\n",
      "51\n",
      "52\n",
      "53\n",
      "54\n",
      "55\n",
      "56\n",
      "57\n",
      "58\n",
      "59\n",
      "61\n",
      "62\n",
      "63\n",
      "64\n",
      "65\n",
      "66\n",
      "67\n",
      "68\n",
      "69\n",
      "71\n",
      "72\n",
      "73\n",
      "74\n",
      "75\n",
      "76\n",
      "77\n",
      "78\n",
      "79\n",
      "81\n",
      "82\n",
      "83\n",
      "84\n",
      "85\n",
      "86\n",
      "87\n",
      "88\n",
      "89\n",
      "91\n",
      "92\n",
      "93\n",
      "94\n",
      "95\n",
      "96\n",
      "97\n",
      "98\n",
      "99\n",
      "1\n",
      "2\n",
      "3\n",
      "4\n",
      "5\n",
      "6\n",
      "7\n",
      "8\n",
      "9\n",
      "10\n"
     ]
    }
   ],
   "source": [
    "for i in range(1,101):\n",
    "    if i%10==0:\n",
    "        continue\n",
    "    print(i)\n",
    "    \n",
    "    \n",
    "for i in range(1,101):\n",
    "    print(i)\n",
    "    if i%10==0:\n",
    "        break"
   ]
  },
  {
   "cell_type": "code",
   "execution_count": null,
   "id": "6501bf98",
   "metadata": {},
   "outputs": [],
   "source": []
  },
  {
   "cell_type": "code",
   "execution_count": 2,
   "id": "80d3d51e",
   "metadata": {},
   "outputs": [
    {
     "name": "stdout",
     "output_type": "stream",
     "text": [
      "enter the no of students3\n",
      "enter the marks of students45\n",
      "enter the marks of students46\n",
      "enter the marks of students45\n",
      "those students who have passed are as follow and count is : 3\n",
      "[45, 46, 45]\n"
     ]
    }
   ],
   "source": [
    "n=int(input(\"enter the no of students\")) \n",
    "count=0 \n",
    "passed=[] \n",
    "failed=[] \n",
    "while count<n: \n",
    "    marks=int(input(\"enter the marks of students\")) \n",
    "    if marks<=0: \n",
    "        break \n",
    "    elif marks<35: \n",
    "        failed.append(marks) \n",
    "    else:\n",
    "        passed.append(marks) \n",
    "    count+=1\n",
    "\n",
    "print(\"those students who have passed are as follow and count is :\",len(passed))\n",
    "print(passed)"
   ]
  },
  {
   "cell_type": "code",
   "execution_count": null,
   "id": "ec3c48b5",
   "metadata": {},
   "outputs": [],
   "source": []
  },
  {
   "cell_type": "code",
   "execution_count": 3,
   "id": "f7692247",
   "metadata": {},
   "outputs": [
    {
     "name": "stdout",
     "output_type": "stream",
     "text": [
      "enter the number of interations3\n",
      "enter a  value12\n",
      "enter a  value23\n",
      "enter a  value344\n",
      "126.33333333333333\n"
     ]
    }
   ],
   "source": [
    "n=int(input(\"enter the number of interations\"))\n",
    "count=0\n",
    "sum=0\n",
    "\n",
    "while count<n:\n",
    "    num=int(input(\"enter a  value\"))\n",
    "    if num==0:\n",
    "        break\n",
    "    else:\n",
    "        sum+=num\n",
    "        count+=1\n",
    "\n",
    "average=sum/count\n",
    "print(average)\n",
    "        "
   ]
  },
  {
   "cell_type": "markdown",
   "id": "0f7ba1a1",
   "metadata": {},
   "source": [
    "n=int(input(\"enter the no of students\"))\n",
    "count=0\n",
    "passed=[]\n",
    "fail=[]\n",
    "while count<n:\n",
    "    marks=int(input(\"enter the marks of students\"))\n",
    "    if marks<=0:\n",
    "        break\n",
    "    elif marks<35:\n",
    "        failed.append(marks)\n",
    "    else:\n",
    "        passed.append(marks)\n",
    "    count+=1    \n",
    "        \n",
    "print(\"those students who have passed are as follow and count is :\",len(passed))        \n",
    "for i in passed:\n",
    "    print(i)"
   ]
  },
  {
   "cell_type": "code",
   "execution_count": null,
   "id": "81a3b184",
   "metadata": {},
   "outputs": [],
   "source": []
  },
  {
   "cell_type": "code",
   "execution_count": 2,
   "id": "2e085f85",
   "metadata": {},
   "outputs": [
    {
     "name": "stdout",
     "output_type": "stream",
     "text": [
      "enter  your limit10000\n",
      "input enter the amount of10000\n",
      "total amount is 10000\n",
      "the purchase made is  [10000]\n",
      "the amount left is 0\n"
     ]
    }
   ],
   "source": [
    "limit=int(input(\"enter  your limit\"))\n",
    "expend=[]\n",
    "sum=0\n",
    "while sum<limit:\n",
    "    amount=int(input(\"input enter the amount of\"))\n",
    "    if amount<=0:\n",
    "        break\n",
    "    else:\n",
    "        sum+=amount\n",
    "        expend.append(amount)\n",
    "print(\"total amount is\",sum)\n",
    "print(\"the purchase made is \",expend)\n",
    "print(\"the amount left is\",(sum-limit))\n",
    "        \n",
    "        \n"
   ]
  },
  {
   "cell_type": "code",
   "execution_count": 1,
   "id": "98fd79b3",
   "metadata": {},
   "outputs": [
    {
     "name": "stdout",
     "output_type": "stream",
     "text": [
      "enter the limit5000\n",
      "enter the amount of1234\n",
      "enter the amount of1234\n",
      "enter the amount of1234\n",
      "enter the amount of1234\n",
      "enter the amount of1234\n",
      "please enter a new amount less than -1170\n",
      "total amount is 6170\n",
      "the purchase made is  [1234, 1234, 1234, 1234]\n",
      "the amount left is -1170\n"
     ]
    }
   ],
   "source": [
    "limit=int(input(\"enter the limit\"))\n",
    "expend=[]\n",
    "sum=0\n",
    "while sum<limit:\n",
    "    amount=int(input(\"enter the amount of\"))\n",
    "    if amount<=0:\n",
    "        break\n",
    "    else:\n",
    "        sum+=amount\n",
    "        if sum<limit:\n",
    "            expend.append(amount)\n",
    "        else:\n",
    "            print(\"please enter a new amount less than\",(limit-sum))\n",
    "\n",
    "print(\"total amount is\",sum)\n",
    "print(\"the purchase made is \",expend)\n",
    "print(\"the amount left is\",(limit-sum))            "
   ]
  },
  {
   "cell_type": "code",
   "execution_count": null,
   "id": "9ec4573b",
   "metadata": {},
   "outputs": [],
   "source": [
    "password=input(\"enter the password\")\n",
    "digit=[]\n",
    "upper=[]\n",
    "lower=[]\n",
    "special=[]\n",
    "space=[]\n",
    "for letter in password:\n",
    "    if letter.isdigit():\n",
    "        digit.append(letter)\n",
    "    elif letter.isupper[]:\n",
    "        upper.append(letter)\n",
    "    elif letter.islower():\n",
    "        lower.append(letter)\n",
    "    elif letter.isspace()\n",
    "        space.append(letter)\n",
    "    else:\n",
    "        special.append(letter)\n",
    "if(len(digit)>=1 and len(upper)>=1 and len(lower)>=1 and len(space)==0 and len(special)>=1 and len(password)>=8)\n",
    "   print(\"it is a good password\")\n",
    "else:\n",
    "    print(\"it is not a good password\")\n",
    "    if len(upper)==0:\n",
    "        print(\"please enter an upper case\")\n",
    "    if len(lower)==0:\n",
    "        print(\"please enter an lower case\")\n",
    "        \n",
    "    \n",
    "        "
   ]
  },
  {
   "cell_type": "code",
   "execution_count": null,
   "id": "e34072c8",
   "metadata": {},
   "outputs": [],
   "source": []
  },
  {
   "cell_type": "code",
   "execution_count": null,
   "id": "d353d3b4",
   "metadata": {},
   "outputs": [],
   "source": []
  },
  {
   "cell_type": "code",
   "execution_count": null,
   "id": "bb417a2b",
   "metadata": {},
   "outputs": [],
   "source": []
  },
  {
   "cell_type": "code",
   "execution_count": null,
   "id": "bead40f7",
   "metadata": {},
   "outputs": [],
   "source": []
  }
 ],
 "metadata": {
  "kernelspec": {
   "display_name": "Python 3 (ipykernel)",
   "language": "python",
   "name": "python3"
  },
  "language_info": {
   "codemirror_mode": {
    "name": "ipython",
    "version": 3
   },
   "file_extension": ".py",
   "mimetype": "text/x-python",
   "name": "python",
   "nbconvert_exporter": "python",
   "pygments_lexer": "ipython3",
   "version": "3.9.13"
  }
 },
 "nbformat": 4,
 "nbformat_minor": 5
}
