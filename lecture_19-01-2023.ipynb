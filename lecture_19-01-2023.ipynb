{
 "cells": [
  {
   "cell_type": "code",
   "execution_count": 4,
   "id": "9c346b49",
   "metadata": {},
   "outputs": [
    {
     "name": "stdout",
     "output_type": "stream",
     "text": [
      "1234\n",
      "str1 is an integer\n"
     ]
    }
   ],
   "source": [
    "str1=input()\n",
    "if (str1[0]==\"-\" or str1[0]==\"+\"):\n",
    "    x=str[1:]\n",
    "    if x.isdigit():\n",
    "        print(\"str1 is an integer\")\n",
    "    else:\n",
    "        print(\"str1 is not an integer\")\n",
    "elif str1.isdigit():\n",
    "    print(\"str1 is an integer\")\n",
    "else:\n",
    "    print(\"str1 is not an integer\")\n",
    "    \n",
    "    "
   ]
  },
  {
   "cell_type": "code",
   "execution_count": 6,
   "id": "d3f86df0",
   "metadata": {},
   "outputs": [
    {
     "name": "stdout",
     "output_type": "stream",
     "text": [
      "enter a  username@snehalsss123\n",
      "valid username\n"
     ]
    }
   ],
   "source": [
    "username=input(\"enter a  username\")\n",
    "alpha=[]\n",
    "dig=[]\n",
    "spa=[]\n",
    "special=[]\n",
    "if len(username)>=8:\n",
    "    if (username[0]=='@'):\n",
    "        x=username[1:]\n",
    "        for i in x:\n",
    "            if i.isalpha():\n",
    "                alpha.append(i)\n",
    "            elif i.isdigit():\n",
    "                 dig.append(i)\n",
    "            elif i.isspace():\n",
    "                 spa.append(i)\n",
    "            else:\n",
    "                special.append(i)\n",
    "                \n",
    "if len(username)>=8 and username[0]=='@':\n",
    "    if (len(alpha)>6 and len(dig)>0 and len(spa)==0):\n",
    "        print(\"valid username\")\n",
    "    else:\n",
    "        print(\"invalid username\")\n",
    "        if len(alpha)==0:\n",
    "            print(\"enter the alpnabate\")\n",
    "        if len(dig)==0:\n",
    "            print(\"enter the digit\")\n",
    "        if len(spa)>0:\n",
    "            print(\"remove space\")\n",
    "            \n",
    "else:\n",
    "    if len(username)<8:\n",
    "        print(\"enter the username with more than 8 characters\")\n",
    "    if username[0]!='@':\n",
    "        print(\"please enter the @ symbol\")"
   ]
  },
  {
   "cell_type": "code",
   "execution_count": null,
   "id": "47b3f044",
   "metadata": {},
   "outputs": [],
   "source": []
  }
 ],
 "metadata": {
  "kernelspec": {
   "display_name": "Python 3 (ipykernel)",
   "language": "python",
   "name": "python3"
  },
  "language_info": {
   "codemirror_mode": {
    "name": "ipython",
    "version": 3
   },
   "file_extension": ".py",
   "mimetype": "text/x-python",
   "name": "python",
   "nbconvert_exporter": "python",
   "pygments_lexer": "ipython3",
   "version": "3.9.13"
  }
 },
 "nbformat": 4,
 "nbformat_minor": 5
}
