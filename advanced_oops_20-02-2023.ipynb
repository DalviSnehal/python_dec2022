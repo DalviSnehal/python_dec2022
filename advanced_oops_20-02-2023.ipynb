{
 "cells": [
  {
   "cell_type": "code",
   "execution_count": 16,
   "id": "cd7fcbfa",
   "metadata": {},
   "outputs": [
    {
     "name": "stdout",
     "output_type": "stream",
     "text": [
      "all student standard is: twelth\n",
      "student name is= snehal student roll no is= 12 student age= 25\n",
      "saraswati vidyalaya nagar\n",
      "25\n",
      "17\n"
     ]
    }
   ],
   "source": [
    "class Student:\n",
    "    standard=\"twelth\"\n",
    "    def __init__(self, name,rollno,age):\n",
    "        self.name=name\n",
    "        self.rollno=rollno\n",
    "        self.age=age    \n",
    "    def get_age(self):\n",
    "        return self.age\n",
    "    def set_age(self,age):\n",
    "        self.age=age\n",
    "        \n",
    "  \n",
    "    \n",
    "class School:\n",
    "    def __init__(self,name,add):\n",
    "        self.name=name\n",
    "        self.add=add\n",
    "    def get_name(self):\n",
    "        return self.name\n",
    "    \n",
    "    \n",
    "\n",
    "student1=Student(\"snehal\",12,25)\n",
    "print(\"all student standard is:\",student1.standard)\n",
    "print(\"student name is=\",student1.name,\"student roll no is=\",student1.rollno,\"student age=\",student1.age)\n",
    "school1=School(\"saraswati vidyalaya\",'nagar')\n",
    "print(school1.name,school1.add)\n",
    "print(student1.get_age())\n",
    "student1.set_age(17)\n",
    "print(student1.get_age())\n"
   ]
  },
  {
   "cell_type": "code",
   "execution_count": null,
   "id": "a8e28eda",
   "metadata": {},
   "outputs": [],
   "source": []
  }
 ],
 "metadata": {
  "kernelspec": {
   "display_name": "Python 3 (ipykernel)",
   "language": "python",
   "name": "python3"
  },
  "language_info": {
   "codemirror_mode": {
    "name": "ipython",
    "version": 3
   },
   "file_extension": ".py",
   "mimetype": "text/x-python",
   "name": "python",
   "nbconvert_exporter": "python",
   "pygments_lexer": "ipython3",
   "version": "3.9.13"
  }
 },
 "nbformat": 4,
 "nbformat_minor": 5
}
