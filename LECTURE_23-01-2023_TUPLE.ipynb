{
 "cells": [
  {
   "cell_type": "code",
   "execution_count": 11,
   "id": "92aed51d",
   "metadata": {},
   "outputs": [
    {
     "name": "stdout",
     "output_type": "stream",
     "text": [
      "1\n",
      "1\n",
      "(1, 2, 3, 4, 5, 5, 6, 4, 1, 2, 3, 4, 4)\n",
      "(1, 2, 3, 4, 5, 5, 6, 4, 1, 2, 3, 4, 4, 1, 2, 3, 4, 5, 5, 6, 4, 1, 2, 3, 4, 4, 1, 2, 3, 4, 5, 5, 6, 4, 1, 2, 3, 4, 4)\n",
      "6\n",
      "1\n",
      "<class 'tuple'>\n",
      "<class 'int'>\n"
     ]
    }
   ],
   "source": [
    "# TUPLE\n",
    "# it takes lesser time storage space and also it is faster than list and it is immutable.\n",
    "# we want to save a file permanently ordered. it contains duplicates\n",
    "\n",
    "t1=(1,2,3,4,5,5,6,4)\n",
    "t2=(1,2,3,4,4)\n",
    "print(t1.count(2))\n",
    "print(t1.index(2))\n",
    "t3=t1+t2\n",
    "print(t3)#concatenation adding each element of the sequence.\n",
    "t4=t3*3#3 times repeat the tuple t3\n",
    "print(t4)\n",
    "print(max(t1))\n",
    "print(min(t1))\n",
    "#del function is also used\n",
    "print(type(t1))\n",
    "print(type(t1[0]))"
   ]
  },
  {
   "cell_type": "code",
   "execution_count": null,
   "id": "df85c3aa",
   "metadata": {},
   "outputs": [],
   "source": []
  }
 ],
 "metadata": {
  "kernelspec": {
   "display_name": "Python 3 (ipykernel)",
   "language": "python",
   "name": "python3"
  },
  "language_info": {
   "codemirror_mode": {
    "name": "ipython",
    "version": 3
   },
   "file_extension": ".py",
   "mimetype": "text/x-python",
   "name": "python",
   "nbconvert_exporter": "python",
   "pygments_lexer": "ipython3",
   "version": "3.9.13"
  }
 },
 "nbformat": 4,
 "nbformat_minor": 5
}
