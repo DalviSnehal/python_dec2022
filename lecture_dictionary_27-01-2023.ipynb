{
 "cells": [
  {
   "cell_type": "code",
   "execution_count": 2,
   "id": "d4b85c73",
   "metadata": {},
   "outputs": [
    {
     "name": "stdout",
     "output_type": "stream",
     "text": [
      "{1: 45, 2: 67, 3: 90, 4: 57}\n"
     ]
    }
   ],
   "source": [
    "test1={1:45,2:67,3:90,4:57,5:23,5:37,5:67,5:60,6:37}\n",
    "\n",
    "#keys cant be repeated ,in case of repeated keys we will consider the last value of the keys\n",
    "#values can be repeated\n",
    "test1.keys()#it is used to index keys\n",
    "test1.values()#it is used to index values\n",
    "test1.items()\n",
    "test1.pop(6)\n",
    "test1.popitem()\n",
    "print(test1)\n",
    "test1[6]=78"
   ]
  },
  {
   "cell_type": "code",
   "execution_count": 12,
   "id": "bed115aa",
   "metadata": {},
   "outputs": [
    {
     "data": {
      "text/plain": [
       "{'key': [1, 23, 4, 5, 6, 7, 8],\n",
       " 'value': [35, 34, 56, 43, 56, 42],\n",
       " 'items': [36, 57, 60],\n",
       " '[456,3535,5335,654]': 'dict'}"
      ]
     },
     "execution_count": 12,
     "metadata": {},
     "output_type": "execute_result"
    }
   ],
   "source": [
    "dict1={\"key\":[1,23,4,5,6,7,8],\"value\":[35,34,56,43,56,42],\"items\":[36,57,60,],\"[456,3535,5335,654]\":\"dict\",\"dict_1\":{1:34,2:45,3:66}}\n",
    "dict1.keys()\n",
    "dict1.values()\n",
    "dict1.items()\n",
    "dict1.popitem()\n",
    "dict1"
   ]
  },
  {
   "cell_type": "code",
   "execution_count": 5,
   "id": "be4c4436",
   "metadata": {},
   "outputs": [
    {
     "name": "stdout",
     "output_type": "stream",
     "text": [
      "[1, 23, 4, 5, 6, 7, 8]\n",
      "[35, 34, 56, 43, 56, 42]\n",
      "[50, 51, 52, 53, 54, 55, 56, 57, 58, 59]\n",
      "dict\n",
      "{1: 34, 2: 45, 3: 66}\n",
      "key\n",
      "value\n",
      "items\n",
      "[456,3535,5335,654]\n",
      "dict_1\n"
     ]
    }
   ],
   "source": [
    "dict1={\"key\":[1,23,4,5,6,7,8],\"value\":[35,34,56,43,56,42],\"items\":[36,57,60,],\"[456,3535,5335,654]\":\"dict\",\"dict_1\":{1:34,2:45,3:66}}\n",
    "\n",
    "dict1[\"items\"]=list(range(50,60)) #keys are considered as the index values \n",
    "\n",
    "#list[]\n",
    "for value in dict1.values():\n",
    "    print(value)\n",
    "    \n",
    "#Print all the keys from a dictionary \n",
    "for key in dict1.keys():\n",
    "    print(key)"
   ]
  },
  {
   "cell_type": "code",
   "execution_count": 6,
   "id": "c0902a28",
   "metadata": {},
   "outputs": [],
   "source": [
    "state_capital={\"Maharashtra\":\"Mumbai\",\"UP\":\"Lucknow\",\"Punjab\":\"Chandigarh\",\"Haryana\":\"Chandigarh\",\"Jammu and Kashmir\":\"Jammu\",\"Jammu and Kashmir\":\"Srinagar\"}"
   ]
  },
  {
   "cell_type": "code",
   "execution_count": 7,
   "id": "6d0e9439",
   "metadata": {},
   "outputs": [
    {
     "data": {
      "text/plain": [
       "{'Maharashtra': 'Mumbai',\n",
       " 'UP': 'Lucknow',\n",
       " 'Punjab': 'Chandigarh',\n",
       " 'Haryana': 'Chandigarh',\n",
       " 'Jammu and Kashmir': 'Srinagar'}"
      ]
     },
     "execution_count": 7,
     "metadata": {},
     "output_type": "execute_result"
    }
   ],
   "source": [
    "state_capital"
   ]
  },
  {
   "cell_type": "code",
   "execution_count": 8,
   "id": "c70770e6",
   "metadata": {},
   "outputs": [
    {
     "name": "stdout",
     "output_type": "stream",
     "text": [
      "gandhinagar\n",
      "No value exist\n"
     ]
    }
   ],
   "source": [
    "state_capital\n",
    "capital=input()\n",
    "list1=[]\n",
    "for key,value in state_capital.items():\n",
    "    if capital==value:\n",
    "        list1.append(value)\n",
    "        print(key)\n",
    "        \n",
    "    if len(list1)==0:\n",
    "        print('No value exist')\n",
    "        break"
   ]
  },
  {
   "cell_type": "code",
   "execution_count": 9,
   "id": "de4d0fba",
   "metadata": {},
   "outputs": [
    {
     "data": {
      "text/plain": [
       "{'Maharashtra': 'Mumbai',\n",
       " 'UP': 'Lucknow',\n",
       " 'Haryana': 'Chandigarh',\n",
       " 'Jammu and Kashmir': 'Srinagar',\n",
       " 'Gujarat': 'Gandhinagar'}"
      ]
     },
     "execution_count": 9,
     "metadata": {},
     "output_type": "execute_result"
    }
   ],
   "source": [
    "x=state_capital.copy() #it create copy of a dictionary\n",
    "x.clear() #removed all the elements\n",
    "x\n",
    "\n",
    "state_capital.pop(\"Punjab\") #removes specific item\n",
    "x=state_capital.keys()\n",
    "x\n",
    "dict1={}\n",
    "state_capital.fromkeys(x,[1000,1230,12345,12464])\n",
    "\n",
    "state_capital.get(\"UP\") #PRINTS THE VALUE WRT THE KEY\n",
    "state_capital.get(\"Gujarat\")\n",
    "\n",
    "state_capital.setdefault(\"Gujarat\",\"Gandhinagar\")\n",
    "state_capital"
   ]
  },
  {
   "cell_type": "code",
   "execution_count": 10,
   "id": "a65816f9",
   "metadata": {},
   "outputs": [
    {
     "data": {
      "text/plain": [
       "{'Maharashtra': 'Mumbai',\n",
       " 'UP': 'Allahabad',\n",
       " 'Haryana': 'Chandigarh',\n",
       " 'Jammu and Kashmir': 'Srinagar',\n",
       " 'Gujarat': 'Gandhinagar'}"
      ]
     },
     "execution_count": 10,
     "metadata": {},
     "output_type": "execute_result"
    }
   ],
   "source": [
    "state_capital.update({\"UP\":\"Allahabad\"})\n",
    "state_capital"
   ]
  },
  {
   "cell_type": "code",
   "execution_count": 11,
   "id": "af357fce",
   "metadata": {},
   "outputs": [
    {
     "data": {
      "text/plain": [
       "{'Maharashtra': 'Mumbai',\n",
       " 'UP': 'Allahabad',\n",
       " 'Haryana': 'Chandigarh',\n",
       " 'Jammu and Kashmir': 'Srinagar',\n",
       " 'Gujarat': 'Gandhinagar',\n",
       " 'TN': 'Chennai'}"
      ]
     },
     "execution_count": 11,
     "metadata": {},
     "output_type": "execute_result"
    }
   ],
   "source": [
    "state_capital[\"TN\"]=\"Chennai\"\n",
    "state_capital"
   ]
  },
  {
   "cell_type": "code",
   "execution_count": 14,
   "id": "64508547",
   "metadata": {},
   "outputs": [
    {
     "name": "stdout",
     "output_type": "stream",
     "text": [
      "abhijeet\n",
      "8\n",
      "[]\n"
     ]
    }
   ],
   "source": [
    "list1=[\"snehal\",\"abhijeet\",\"ashish\",\"kajol\",\"ravi\",\"om\"]\n",
    "word=input()\n",
    "x=len(word)\n",
    "print(x)\n",
    "word_1=[]\n",
    "for word in list1:\n",
    "    if len(word)>x:\n",
    "        word_1.append(word)\n",
    "print(word_1)"
   ]
  },
  {
   "cell_type": "code",
   "execution_count": null,
   "id": "64955388",
   "metadata": {},
   "outputs": [],
   "source": []
  }
 ],
 "metadata": {
  "kernelspec": {
   "display_name": "Python 3 (ipykernel)",
   "language": "python",
   "name": "python3"
  },
  "language_info": {
   "codemirror_mode": {
    "name": "ipython",
    "version": 3
   },
   "file_extension": ".py",
   "mimetype": "text/x-python",
   "name": "python",
   "nbconvert_exporter": "python",
   "pygments_lexer": "ipython3",
   "version": "3.9.13"
  }
 },
 "nbformat": 4,
 "nbformat_minor": 5
}
