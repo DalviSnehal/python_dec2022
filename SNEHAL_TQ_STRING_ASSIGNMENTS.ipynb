{
 "cells": [
  {
   "cell_type": "code",
   "execution_count": 3,
   "id": "0dee5493",
   "metadata": {},
   "outputs": [
    {
     "name": "stdout",
     "output_type": "stream",
     "text": [
      "Enter string:aoooa\n",
      "The string is a palindrome\n"
     ]
    }
   ],
   "source": [
    "# 1. WAP program to check whether given string is palindrome\n",
    "string=input(\"Enter string:\")\n",
    "if(string==string[::-1]):\n",
    "      print(\"The string is a palindrome\")\n",
    "else:\n",
    "      print(\"The string isn't a palindrome\")"
   ]
  },
  {
   "cell_type": "code",
   "execution_count": 17,
   "id": "eef19226",
   "metadata": {},
   "outputs": [
    {
     "name": "stdout",
     "output_type": "stream",
     "text": [
      "enter the stringabhijeet\n",
      "Number of vowels are:\n",
      "4\n"
     ]
    }
   ],
   "source": [
    "# 2. WAP program to count number of vowels in given string\n",
    "string=input(\"enter the string\")\n",
    "vowels=0\n",
    "for i in string:\n",
    "    if(i=='a' or i=='e' or i=='i' or i=='o' or i=='u' or i=='A' or i=='E' or i=='I' or i=='O' or i=='U'):\n",
    "         vowels=vowels+1\n",
    "print(\"Number of vowels are:\")\n",
    "print(vowels)"
   ]
  },
  {
   "cell_type": "code",
   "execution_count": 20,
   "id": "1c18bfa0",
   "metadata": {},
   "outputs": [
    {
     "name": "stdout",
     "output_type": "stream",
     "text": [
      "enter the stringsnehal\n",
      "enter the character to remove from the given stringl\n",
      "after removing the character from the string: sneha\n"
     ]
    }
   ],
   "source": [
    "# 3. WAP to remove all occurences of given char from String\n",
    "sample_str=input(\"enter the string\")\n",
    "single_char=input(\"enter the character to remove from the given string\")\n",
    "sample_str=sample_str.replace(single_char, \"\")\n",
    "print(\"after removing the character from the string:\",sample_str)"
   ]
  },
  {
   "cell_type": "code",
   "execution_count": 21,
   "id": "d97cdd77",
   "metadata": {},
   "outputs": [
    {
     "name": "stdout",
     "output_type": "stream",
     "text": [
      "Enter string 1: mary\n",
      "Enter string 2: ARMY\n",
      "String 1 after sorting:  ['a', 'm', 'r', 'y']\n",
      "String 2 after sorting:  ['a', 'm', 'r', 'y']\n",
      "The strings are anagrams.\n"
     ]
    }
   ],
   "source": [
    "# 4. WAP to accept 2 string and check whether they are anagram or not eg) MARY ARMY\n",
    "str1 = str(input (\"Enter string 1: \"))\n",
    "str2 = str(input (\"Enter string 2: \"))\n",
    "str1 = sorted(str1.lower())\n",
    "str2 = sorted(str2.lower())\n",
    "print(\"String 1 after sorting: \", str1)\n",
    "print(\"String 2 after sorting: \", str2)\n",
    "if (str1 == str2) :\n",
    "    print(\"The strings are anagrams.\")\n",
    "else:\n",
    "    print( \"The strings are not anagrams.\")"
   ]
  },
  {
   "cell_type": "code",
   "execution_count": 19,
   "id": "a13a6d25",
   "metadata": {},
   "outputs": [
    {
     "name": "stdout",
     "output_type": "stream",
     "text": [
      "Enter your string:-python is fun\n",
      "nohtyp si nuf\n"
     ]
    }
   ],
   "source": [
    "# 5. WAP to reverse each word in a sentence Python is fun -->nohtyP si nuf\n",
    "string=input(\"Enter your string:-\")\n",
    "str1=string.split(\" \")\n",
    "for i in range(len(str1)):\n",
    "    str1[i]=str1[i][::-1]\n",
    "reverse=\" \".join(str1)\n",
    "print(reverse)"
   ]
  },
  {
   "cell_type": "code",
   "execution_count": 25,
   "id": "32b6bb7e",
   "metadata": {},
   "outputs": [
    {
     "name": "stdout",
     "output_type": "stream",
     "text": [
      "enter the string:elephant\n",
      "e : 2\n",
      "l : 1\n",
      "e : 2\n",
      "p : 1\n",
      "h : 1\n",
      "a : 1\n",
      "n : 1\n",
      "t : 1\n"
     ]
    }
   ],
   "source": [
    "# 6. WAP program to find frequency of each character in given String\n",
    "str1=input(\"enter the string:\")\n",
    "for i in str1:\n",
    "    print(i,\":\",str1.count(i))"
   ]
  },
  {
   "cell_type": "code",
   "execution_count": 21,
   "id": "7b2b2907",
   "metadata": {},
   "outputs": [
    {
     "name": "stdout",
     "output_type": "stream",
     "text": [
      "Enter your string:-snehal satish berad\n",
      "['s', 's', 'b']\n"
     ]
    }
   ],
   "source": [
    "# 7. WAP to extract first alphabet from given sentence to form a new word\n",
    "string=input(\"Enter your string:-\")\n",
    "str1=string.split()#The split() method splits a string into a list\n",
    "word=[]\n",
    "for i in str1:\n",
    "    word.append(i[0])\n",
    "print(word)"
   ]
  },
  {
   "cell_type": "code",
   "execution_count": 3,
   "id": "432225ff",
   "metadata": {},
   "outputs": [
    {
     "name": "stdout",
     "output_type": "stream",
     "text": [
      "     \n",
      "    *\n",
      "   **\n",
      "  ***\n",
      " ****\n",
      "*****\n"
     ]
    }
   ],
   "source": [
    "# 8. Star Pattern Programs\n",
    "n=5;i=0\n",
    "while(i<=n):\n",
    "  print(\" \" * (n - i) +\"*\" * i)\n",
    "  i+=1\n",
    "    \n",
    "#     number=int(input(\"Enter the number:-\"))\n",
    "# for i in range(number+1):\n",
    "#     for j in range(i):\n",
    "#         print(\"*\",end=\"\")\n",
    "#     print(\"\\r\")"
   ]
  },
  {
   "cell_type": "code",
   "execution_count": 22,
   "id": "596c3523",
   "metadata": {},
   "outputs": [
    {
     "name": "stdout",
     "output_type": "stream",
     "text": [
      "Enter the range:-5\n",
      "ABCDE\n",
      "ABCD\n",
      "ABC\n",
      "AB\n",
      "A\n"
     ]
    }
   ],
   "source": [
    "# 9. ABCDE\n",
    "# ABCD\n",
    "# ABC\n",
    "# AB\n",
    "# A\n",
    "n=int(input(\"Enter the range:-\"))\n",
    "for i in range(n+65,65,-1):\n",
    "    for j in range(65,i):\n",
    "        print(chr(j),end=\"\")\n",
    "    print()\n"
   ]
  },
  {
   "cell_type": "code",
   "execution_count": 9,
   "id": "b59008ca",
   "metadata": {},
   "outputs": [
    {
     "name": "stdout",
     "output_type": "stream",
     "text": [
      "Enter the string:-mjbbm  bmb  mb\n",
      "nkccn!!cnc!!nc\n"
     ]
    },
    {
     "ename": "TypeError",
     "evalue": "str.join() takes exactly one argument (0 given)",
     "output_type": "error",
     "traceback": [
      "\u001b[1;31m---------------------------------------------------------------------------\u001b[0m",
      "\u001b[1;31mTypeError\u001b[0m                                 Traceback (most recent call last)",
      "\u001b[1;32m~\\AppData\\Local\\Temp\\ipykernel_30920\\1756089720.py\u001b[0m in \u001b[0;36m<module>\u001b[1;34m\u001b[0m\n\u001b[0;32m      6\u001b[0m     \u001b[0mstring\u001b[0m\u001b[1;33m[\u001b[0m\u001b[0mi\u001b[0m\u001b[1;33m]\u001b[0m\u001b[1;33m=\u001b[0m\u001b[0mchr\u001b[0m\u001b[1;33m(\u001b[0m\u001b[0masc\u001b[0m\u001b[1;33m+\u001b[0m\u001b[1;36m1\u001b[0m\u001b[1;33m)\u001b[0m\u001b[1;33m\u001b[0m\u001b[1;33m\u001b[0m\u001b[0m\n\u001b[0;32m      7\u001b[0m \u001b[0mprint\u001b[0m\u001b[1;33m(\u001b[0m\u001b[1;34m''\u001b[0m\u001b[1;33m.\u001b[0m\u001b[0mjoin\u001b[0m\u001b[1;33m(\u001b[0m\u001b[0mstring\u001b[0m\u001b[1;33m)\u001b[0m\u001b[1;33m)\u001b[0m\u001b[1;33m\u001b[0m\u001b[1;33m\u001b[0m\u001b[0m\n\u001b[1;32m----> 8\u001b[1;33m \u001b[0mstr\u001b[0m\u001b[1;33m.\u001b[0m\u001b[0mjoin\u001b[0m\u001b[1;33m(\u001b[0m\u001b[1;34m\" \"\u001b[0m\u001b[1;33m)\u001b[0m\u001b[1;31m#Concatenate any number of strings.\u001b[0m\u001b[1;33m\u001b[0m\u001b[1;33m\u001b[0m\u001b[0m\n\u001b[0m",
      "\u001b[1;31mTypeError\u001b[0m: str.join() takes exactly one argument (0 given)"
     ]
    }
   ],
   "source": [
    "# 10. WAP to replace every character by its next subsequent character\n",
    "string=input(\"Enter the string:-\")\n",
    "string=list(string)\n",
    "for i in range(len(string)):\n",
    "    asc=ord(string[i])ord#Return the Unicode code point for a one-character string.\n",
    "    string[i]=chr(asc+1)\n",
    "print(''.join(string))\n",
    "str.join(\" \")#Concatenate any number of strings."
   ]
  },
  {
   "cell_type": "code",
   "execution_count": 10,
   "id": "986b798f",
   "metadata": {},
   "outputs": [
    {
     "name": "stdout",
     "output_type": "stream",
     "text": [
      "Enter a line: snehal\n",
      "s = 1\n",
      "n = 1\n",
      "e = 1\n",
      "h = 1\n",
      "a = 1\n",
      "l = 1\n"
     ]
    }
   ],
   "source": [
    "#Q11. WAP to count the number of character in a string\n",
    "string=input(\"Enter a line: \")\n",
    "temp=0\n",
    "temp1=[]\n",
    "for i in string:\n",
    "    if i.isspace():\n",
    "        continue\n",
    "    else:\n",
    "        if i not in temp1:\n",
    "            temp=string.count(i)\n",
    "            print(i,\"=\",temp)\n",
    "            temp1.append(i)"
   ]
  },
  {
   "cell_type": "code",
   "execution_count": 24,
   "id": "5173d2ca",
   "metadata": {},
   "outputs": [
    {
     "name": "stdout",
     "output_type": "stream",
     "text": [
      "Enter your string:-snehal\n",
      "nhl\n"
     ]
    }
   ],
   "source": [
    "#12. Write a Python program to remove the characters which have odd index values of a given string.\n",
    "string=input(\"Enter your string:-\")\n",
    "str1=[]\n",
    "for i in range(len(string)):\n",
    "    asc=ord(string[i])\n",
    "    if asc%2==0:\n",
    "        str1.append(chr(asc))\n",
    "print(\"\".join(str1))"
   ]
  },
  {
   "cell_type": "code",
   "execution_count": 5,
   "id": "bf0d9265",
   "metadata": {},
   "outputs": [
    {
     "name": "stdout",
     "output_type": "stream",
     "text": [
      "Enter your string:-sssgg\n",
      "s : 3\n",
      "s : 3\n",
      "s : 3\n",
      "g : 2\n",
      "g : 2\n"
     ]
    }
   ],
   "source": [
    "#13. Write a Python program to count the occurrences of each word in a given sentence.\n",
    "string=input(\"Enter your string:-\")\n",
    "for i in string:\n",
    "    print(i,\":\",string.count(i))"
   ]
  },
  {
   "cell_type": "code",
   "execution_count": 26,
   "id": "bddcdc9d",
   "metadata": {},
   "outputs": [
    {
     "name": "stdout",
     "output_type": "stream",
     "text": [
      "Enter your string:-SNEhal\n",
      "sneHAL\n"
     ]
    }
   ],
   "source": [
    "#14. Write a Python program to swap cases or toggle cases of a given string\n",
    "string=input(\"Enter your string:-\")\n",
    "print(string.swapcase())"
   ]
  },
  {
   "cell_type": "code",
   "execution_count": null,
   "id": "1299d457",
   "metadata": {},
   "outputs": [],
   "source": []
  }
 ],
 "metadata": {
  "kernelspec": {
   "display_name": "Python 3 (ipykernel)",
   "language": "python",
   "name": "python3"
  },
  "language_info": {
   "codemirror_mode": {
    "name": "ipython",
    "version": 3
   },
   "file_extension": ".py",
   "mimetype": "text/x-python",
   "name": "python",
   "nbconvert_exporter": "python",
   "pygments_lexer": "ipython3",
   "version": "3.9.13"
  }
 },
 "nbformat": 4,
 "nbformat_minor": 5
}
